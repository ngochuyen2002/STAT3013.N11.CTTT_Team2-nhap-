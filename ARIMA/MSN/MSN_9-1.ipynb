{
  "nbformat": 4,
  "nbformat_minor": 0,
  "metadata": {
    "colab": {
      "provenance": []
    },
    "kernelspec": {
      "name": "python3",
      "display_name": "Python 3"
    },
    "language_info": {
      "name": "python"
    }
  },
  "cells": [
    {
      "cell_type": "code",
      "execution_count": 79,
      "metadata": {
        "id": "fIiKyCURKv2Y",
        "colab": {
          "base_uri": "https://localhost:8080/"
        },
        "outputId": "5511ed8f-5748-4946-cc90-41b97507c160"
      },
      "outputs": [
        {
          "output_type": "stream",
          "name": "stdout",
          "text": [
            "Looking in indexes: https://pypi.org/simple, https://us-python.pkg.dev/colab-wheels/public/simple/\n",
            "Requirement already satisfied: pmdarima in /usr/local/lib/python3.8/dist-packages (2.0.2)\n",
            "Requirement already satisfied: pandas>=0.19 in /usr/local/lib/python3.8/dist-packages (from pmdarima) (1.3.5)\n",
            "Requirement already satisfied: scikit-learn>=0.22 in /usr/local/lib/python3.8/dist-packages (from pmdarima) (1.0.2)\n",
            "Requirement already satisfied: numpy>=1.21.2 in /usr/local/lib/python3.8/dist-packages (from pmdarima) (1.21.6)\n",
            "Requirement already satisfied: statsmodels>=0.13.2 in /usr/local/lib/python3.8/dist-packages (from pmdarima) (0.13.5)\n",
            "Requirement already satisfied: urllib3 in /usr/local/lib/python3.8/dist-packages (from pmdarima) (1.24.3)\n",
            "Requirement already satisfied: scipy>=1.3.2 in /usr/local/lib/python3.8/dist-packages (from pmdarima) (1.7.3)\n",
            "Requirement already satisfied: setuptools!=50.0.0,>=38.6.0 in /usr/local/lib/python3.8/dist-packages (from pmdarima) (57.4.0)\n",
            "Requirement already satisfied: Cython!=0.29.18,!=0.29.31,>=0.29 in /usr/local/lib/python3.8/dist-packages (from pmdarima) (0.29.32)\n",
            "Requirement already satisfied: joblib>=0.11 in /usr/local/lib/python3.8/dist-packages (from pmdarima) (1.2.0)\n",
            "Requirement already satisfied: pytz>=2017.3 in /usr/local/lib/python3.8/dist-packages (from pandas>=0.19->pmdarima) (2022.7)\n",
            "Requirement already satisfied: python-dateutil>=2.7.3 in /usr/local/lib/python3.8/dist-packages (from pandas>=0.19->pmdarima) (2.8.2)\n",
            "Requirement already satisfied: threadpoolctl>=2.0.0 in /usr/local/lib/python3.8/dist-packages (from scikit-learn>=0.22->pmdarima) (3.1.0)\n",
            "Requirement already satisfied: packaging>=21.3 in /usr/local/lib/python3.8/dist-packages (from statsmodels>=0.13.2->pmdarima) (21.3)\n",
            "Requirement already satisfied: patsy>=0.5.2 in /usr/local/lib/python3.8/dist-packages (from statsmodels>=0.13.2->pmdarima) (0.5.3)\n",
            "Requirement already satisfied: pyparsing!=3.0.5,>=2.0.2 in /usr/local/lib/python3.8/dist-packages (from packaging>=21.3->statsmodels>=0.13.2->pmdarima) (3.0.9)\n",
            "Requirement already satisfied: six in /usr/local/lib/python3.8/dist-packages (from patsy>=0.5.2->statsmodels>=0.13.2->pmdarima) (1.15.0)\n"
          ]
        }
      ],
      "source": [
        "!pip install pmdarima"
      ]
    },
    {
      "cell_type": "code",
      "source": [
        "import pandas as pd\n",
        "import numpy as np\n",
        "import matplotlib.pyplot as plt\n",
        "from statsmodels.tsa.arima_model import ARIMA\n",
        "import statsmodels.api as sm\n",
        "from pmdarima import auto_arima\n",
        "from statsmodels.tsa.seasonal import seasonal_decompose\n",
        "from statsmodels.tsa.stattools import adfuller\n",
        "from math import sqrt"
      ],
      "metadata": {
        "id": "8KisnXuycfLl"
      },
      "execution_count": 80,
      "outputs": []
    },
    {
      "cell_type": "code",
      "source": [
        "df = pd.read_csv(\"MSN Historical Data.csv\")"
      ],
      "metadata": {
        "id": "zUMBHJPNLR7v"
      },
      "execution_count": 81,
      "outputs": []
    },
    {
      "cell_type": "code",
      "source": [
        "df.head()"
      ],
      "metadata": {
        "colab": {
          "base_uri": "https://localhost:8080/",
          "height": 206
        },
        "id": "WWVndgYYLR5u",
        "outputId": "03e2a041-5187-4798-a6b3-d5cf88c36394"
      },
      "execution_count": 82,
      "outputs": [
        {
          "output_type": "execute_result",
          "data": {
            "text/plain": [
              "        Date    Price     Open     High      Low       Vol.  Change %\n",
              "0  12/1/2017  68500.0  67000.0  69400.0  66500.0   725370.0      0.02\n",
              "1  12/4/2017  69000.0  70000.0  70000.0  68800.0  1190000.0      0.01\n",
              "2  12/5/2017  68900.0  69000.0  70100.0  68600.0   777070.0      0.00\n",
              "3  12/6/2017  67700.0  68900.0  69000.0  66000.0  1080000.0     -0.02\n",
              "4  12/7/2017  69000.0  68600.0  69800.0  67300.0  1560000.0      0.02"
            ],
            "text/html": [
              "\n",
              "  <div id=\"df-f6c16d01-f7b5-4a6d-ad90-5742a2bd4fcf\">\n",
              "    <div class=\"colab-df-container\">\n",
              "      <div>\n",
              "<style scoped>\n",
              "    .dataframe tbody tr th:only-of-type {\n",
              "        vertical-align: middle;\n",
              "    }\n",
              "\n",
              "    .dataframe tbody tr th {\n",
              "        vertical-align: top;\n",
              "    }\n",
              "\n",
              "    .dataframe thead th {\n",
              "        text-align: right;\n",
              "    }\n",
              "</style>\n",
              "<table border=\"1\" class=\"dataframe\">\n",
              "  <thead>\n",
              "    <tr style=\"text-align: right;\">\n",
              "      <th></th>\n",
              "      <th>Date</th>\n",
              "      <th>Price</th>\n",
              "      <th>Open</th>\n",
              "      <th>High</th>\n",
              "      <th>Low</th>\n",
              "      <th>Vol.</th>\n",
              "      <th>Change %</th>\n",
              "    </tr>\n",
              "  </thead>\n",
              "  <tbody>\n",
              "    <tr>\n",
              "      <th>0</th>\n",
              "      <td>12/1/2017</td>\n",
              "      <td>68500.0</td>\n",
              "      <td>67000.0</td>\n",
              "      <td>69400.0</td>\n",
              "      <td>66500.0</td>\n",
              "      <td>725370.0</td>\n",
              "      <td>0.02</td>\n",
              "    </tr>\n",
              "    <tr>\n",
              "      <th>1</th>\n",
              "      <td>12/4/2017</td>\n",
              "      <td>69000.0</td>\n",
              "      <td>70000.0</td>\n",
              "      <td>70000.0</td>\n",
              "      <td>68800.0</td>\n",
              "      <td>1190000.0</td>\n",
              "      <td>0.01</td>\n",
              "    </tr>\n",
              "    <tr>\n",
              "      <th>2</th>\n",
              "      <td>12/5/2017</td>\n",
              "      <td>68900.0</td>\n",
              "      <td>69000.0</td>\n",
              "      <td>70100.0</td>\n",
              "      <td>68600.0</td>\n",
              "      <td>777070.0</td>\n",
              "      <td>0.00</td>\n",
              "    </tr>\n",
              "    <tr>\n",
              "      <th>3</th>\n",
              "      <td>12/6/2017</td>\n",
              "      <td>67700.0</td>\n",
              "      <td>68900.0</td>\n",
              "      <td>69000.0</td>\n",
              "      <td>66000.0</td>\n",
              "      <td>1080000.0</td>\n",
              "      <td>-0.02</td>\n",
              "    </tr>\n",
              "    <tr>\n",
              "      <th>4</th>\n",
              "      <td>12/7/2017</td>\n",
              "      <td>69000.0</td>\n",
              "      <td>68600.0</td>\n",
              "      <td>69800.0</td>\n",
              "      <td>67300.0</td>\n",
              "      <td>1560000.0</td>\n",
              "      <td>0.02</td>\n",
              "    </tr>\n",
              "  </tbody>\n",
              "</table>\n",
              "</div>\n",
              "      <button class=\"colab-df-convert\" onclick=\"convertToInteractive('df-f6c16d01-f7b5-4a6d-ad90-5742a2bd4fcf')\"\n",
              "              title=\"Convert this dataframe to an interactive table.\"\n",
              "              style=\"display:none;\">\n",
              "        \n",
              "  <svg xmlns=\"http://www.w3.org/2000/svg\" height=\"24px\"viewBox=\"0 0 24 24\"\n",
              "       width=\"24px\">\n",
              "    <path d=\"M0 0h24v24H0V0z\" fill=\"none\"/>\n",
              "    <path d=\"M18.56 5.44l.94 2.06.94-2.06 2.06-.94-2.06-.94-.94-2.06-.94 2.06-2.06.94zm-11 1L8.5 8.5l.94-2.06 2.06-.94-2.06-.94L8.5 2.5l-.94 2.06-2.06.94zm10 10l.94 2.06.94-2.06 2.06-.94-2.06-.94-.94-2.06-.94 2.06-2.06.94z\"/><path d=\"M17.41 7.96l-1.37-1.37c-.4-.4-.92-.59-1.43-.59-.52 0-1.04.2-1.43.59L10.3 9.45l-7.72 7.72c-.78.78-.78 2.05 0 2.83L4 21.41c.39.39.9.59 1.41.59.51 0 1.02-.2 1.41-.59l7.78-7.78 2.81-2.81c.8-.78.8-2.07 0-2.86zM5.41 20L4 18.59l7.72-7.72 1.47 1.35L5.41 20z\"/>\n",
              "  </svg>\n",
              "      </button>\n",
              "      \n",
              "  <style>\n",
              "    .colab-df-container {\n",
              "      display:flex;\n",
              "      flex-wrap:wrap;\n",
              "      gap: 12px;\n",
              "    }\n",
              "\n",
              "    .colab-df-convert {\n",
              "      background-color: #E8F0FE;\n",
              "      border: none;\n",
              "      border-radius: 50%;\n",
              "      cursor: pointer;\n",
              "      display: none;\n",
              "      fill: #1967D2;\n",
              "      height: 32px;\n",
              "      padding: 0 0 0 0;\n",
              "      width: 32px;\n",
              "    }\n",
              "\n",
              "    .colab-df-convert:hover {\n",
              "      background-color: #E2EBFA;\n",
              "      box-shadow: 0px 1px 2px rgba(60, 64, 67, 0.3), 0px 1px 3px 1px rgba(60, 64, 67, 0.15);\n",
              "      fill: #174EA6;\n",
              "    }\n",
              "\n",
              "    [theme=dark] .colab-df-convert {\n",
              "      background-color: #3B4455;\n",
              "      fill: #D2E3FC;\n",
              "    }\n",
              "\n",
              "    [theme=dark] .colab-df-convert:hover {\n",
              "      background-color: #434B5C;\n",
              "      box-shadow: 0px 1px 3px 1px rgba(0, 0, 0, 0.15);\n",
              "      filter: drop-shadow(0px 1px 2px rgba(0, 0, 0, 0.3));\n",
              "      fill: #FFFFFF;\n",
              "    }\n",
              "  </style>\n",
              "\n",
              "      <script>\n",
              "        const buttonEl =\n",
              "          document.querySelector('#df-f6c16d01-f7b5-4a6d-ad90-5742a2bd4fcf button.colab-df-convert');\n",
              "        buttonEl.style.display =\n",
              "          google.colab.kernel.accessAllowed ? 'block' : 'none';\n",
              "\n",
              "        async function convertToInteractive(key) {\n",
              "          const element = document.querySelector('#df-f6c16d01-f7b5-4a6d-ad90-5742a2bd4fcf');\n",
              "          const dataTable =\n",
              "            await google.colab.kernel.invokeFunction('convertToInteractive',\n",
              "                                                     [key], {});\n",
              "          if (!dataTable) return;\n",
              "\n",
              "          const docLinkHtml = 'Like what you see? Visit the ' +\n",
              "            '<a target=\"_blank\" href=https://colab.research.google.com/notebooks/data_table.ipynb>data table notebook</a>'\n",
              "            + ' to learn more about interactive tables.';\n",
              "          element.innerHTML = '';\n",
              "          dataTable['output_type'] = 'display_data';\n",
              "          await google.colab.output.renderOutput(dataTable, element);\n",
              "          const docLink = document.createElement('div');\n",
              "          docLink.innerHTML = docLinkHtml;\n",
              "          element.appendChild(docLink);\n",
              "        }\n",
              "      </script>\n",
              "    </div>\n",
              "  </div>\n",
              "  "
            ]
          },
          "metadata": {},
          "execution_count": 82
        }
      ]
    },
    {
      "cell_type": "code",
      "source": [
        "df.info()"
      ],
      "metadata": {
        "colab": {
          "base_uri": "https://localhost:8080/"
        },
        "id": "m3ii8pUjLR4H",
        "outputId": "8f43e5c3-a65c-42e4-8b07-de1cb5f68452"
      },
      "execution_count": 83,
      "outputs": [
        {
          "output_type": "stream",
          "name": "stdout",
          "text": [
            "<class 'pandas.core.frame.DataFrame'>\n",
            "RangeIndex: 1249 entries, 0 to 1248\n",
            "Data columns (total 7 columns):\n",
            " #   Column    Non-Null Count  Dtype  \n",
            "---  ------    --------------  -----  \n",
            " 0   Date      1249 non-null   object \n",
            " 1   Price     1249 non-null   float64\n",
            " 2   Open      1249 non-null   float64\n",
            " 3   High      1249 non-null   float64\n",
            " 4   Low       1249 non-null   float64\n",
            " 5   Vol.      1249 non-null   float64\n",
            " 6   Change %  1249 non-null   float64\n",
            "dtypes: float64(6), object(1)\n",
            "memory usage: 68.4+ KB\n"
          ]
        }
      ]
    },
    {
      "cell_type": "code",
      "source": [
        "df.describe()"
      ],
      "metadata": {
        "colab": {
          "base_uri": "https://localhost:8080/",
          "height": 300
        },
        "id": "OU3m4JZ3LR1_",
        "outputId": "8232584f-e2a1-4714-b8a5-63eba1e390d2"
      },
      "execution_count": 84,
      "outputs": [
        {
          "output_type": "execute_result",
          "data": {
            "text/plain": [
              "               Price           Open           High            Low  \\\n",
              "count    1249.000000    1249.000000    1249.000000    1249.000000   \n",
              "mean    84948.191353   84855.508407   86251.770216   83555.642114   \n",
              "std     23451.518390   23499.743492   23939.497447   23088.419709   \n",
              "min     39997.000000   39190.000000   40088.000000   37883.000000   \n",
              "25%     72915.000000   72669.000000   74100.000000   71521.000000   \n",
              "50%     84200.000000   84000.000000   85200.000000   82500.000000   \n",
              "75%    100924.000000  100179.000000  103000.000000   99000.000000   \n",
              "max    142286.000000  142286.000000  144768.000000  140218.000000   \n",
              "\n",
              "               Vol.     Change %  \n",
              "count  1.249000e+03  1249.000000  \n",
              "mean   1.337777e+06     0.000496  \n",
              "std    1.287888e+06     0.023910  \n",
              "min    5.748000e+04    -0.190000  \n",
              "25%    5.647000e+05    -0.010000  \n",
              "50%    9.966000e+05     0.000000  \n",
              "75%    1.620000e+06     0.010000  \n",
              "max    1.184000e+07     0.070000  "
            ],
            "text/html": [
              "\n",
              "  <div id=\"df-e5311a9b-8a66-4ea7-91fd-d4e68d6de315\">\n",
              "    <div class=\"colab-df-container\">\n",
              "      <div>\n",
              "<style scoped>\n",
              "    .dataframe tbody tr th:only-of-type {\n",
              "        vertical-align: middle;\n",
              "    }\n",
              "\n",
              "    .dataframe tbody tr th {\n",
              "        vertical-align: top;\n",
              "    }\n",
              "\n",
              "    .dataframe thead th {\n",
              "        text-align: right;\n",
              "    }\n",
              "</style>\n",
              "<table border=\"1\" class=\"dataframe\">\n",
              "  <thead>\n",
              "    <tr style=\"text-align: right;\">\n",
              "      <th></th>\n",
              "      <th>Price</th>\n",
              "      <th>Open</th>\n",
              "      <th>High</th>\n",
              "      <th>Low</th>\n",
              "      <th>Vol.</th>\n",
              "      <th>Change %</th>\n",
              "    </tr>\n",
              "  </thead>\n",
              "  <tbody>\n",
              "    <tr>\n",
              "      <th>count</th>\n",
              "      <td>1249.000000</td>\n",
              "      <td>1249.000000</td>\n",
              "      <td>1249.000000</td>\n",
              "      <td>1249.000000</td>\n",
              "      <td>1.249000e+03</td>\n",
              "      <td>1249.000000</td>\n",
              "    </tr>\n",
              "    <tr>\n",
              "      <th>mean</th>\n",
              "      <td>84948.191353</td>\n",
              "      <td>84855.508407</td>\n",
              "      <td>86251.770216</td>\n",
              "      <td>83555.642114</td>\n",
              "      <td>1.337777e+06</td>\n",
              "      <td>0.000496</td>\n",
              "    </tr>\n",
              "    <tr>\n",
              "      <th>std</th>\n",
              "      <td>23451.518390</td>\n",
              "      <td>23499.743492</td>\n",
              "      <td>23939.497447</td>\n",
              "      <td>23088.419709</td>\n",
              "      <td>1.287888e+06</td>\n",
              "      <td>0.023910</td>\n",
              "    </tr>\n",
              "    <tr>\n",
              "      <th>min</th>\n",
              "      <td>39997.000000</td>\n",
              "      <td>39190.000000</td>\n",
              "      <td>40088.000000</td>\n",
              "      <td>37883.000000</td>\n",
              "      <td>5.748000e+04</td>\n",
              "      <td>-0.190000</td>\n",
              "    </tr>\n",
              "    <tr>\n",
              "      <th>25%</th>\n",
              "      <td>72915.000000</td>\n",
              "      <td>72669.000000</td>\n",
              "      <td>74100.000000</td>\n",
              "      <td>71521.000000</td>\n",
              "      <td>5.647000e+05</td>\n",
              "      <td>-0.010000</td>\n",
              "    </tr>\n",
              "    <tr>\n",
              "      <th>50%</th>\n",
              "      <td>84200.000000</td>\n",
              "      <td>84000.000000</td>\n",
              "      <td>85200.000000</td>\n",
              "      <td>82500.000000</td>\n",
              "      <td>9.966000e+05</td>\n",
              "      <td>0.000000</td>\n",
              "    </tr>\n",
              "    <tr>\n",
              "      <th>75%</th>\n",
              "      <td>100924.000000</td>\n",
              "      <td>100179.000000</td>\n",
              "      <td>103000.000000</td>\n",
              "      <td>99000.000000</td>\n",
              "      <td>1.620000e+06</td>\n",
              "      <td>0.010000</td>\n",
              "    </tr>\n",
              "    <tr>\n",
              "      <th>max</th>\n",
              "      <td>142286.000000</td>\n",
              "      <td>142286.000000</td>\n",
              "      <td>144768.000000</td>\n",
              "      <td>140218.000000</td>\n",
              "      <td>1.184000e+07</td>\n",
              "      <td>0.070000</td>\n",
              "    </tr>\n",
              "  </tbody>\n",
              "</table>\n",
              "</div>\n",
              "      <button class=\"colab-df-convert\" onclick=\"convertToInteractive('df-e5311a9b-8a66-4ea7-91fd-d4e68d6de315')\"\n",
              "              title=\"Convert this dataframe to an interactive table.\"\n",
              "              style=\"display:none;\">\n",
              "        \n",
              "  <svg xmlns=\"http://www.w3.org/2000/svg\" height=\"24px\"viewBox=\"0 0 24 24\"\n",
              "       width=\"24px\">\n",
              "    <path d=\"M0 0h24v24H0V0z\" fill=\"none\"/>\n",
              "    <path d=\"M18.56 5.44l.94 2.06.94-2.06 2.06-.94-2.06-.94-.94-2.06-.94 2.06-2.06.94zm-11 1L8.5 8.5l.94-2.06 2.06-.94-2.06-.94L8.5 2.5l-.94 2.06-2.06.94zm10 10l.94 2.06.94-2.06 2.06-.94-2.06-.94-.94-2.06-.94 2.06-2.06.94z\"/><path d=\"M17.41 7.96l-1.37-1.37c-.4-.4-.92-.59-1.43-.59-.52 0-1.04.2-1.43.59L10.3 9.45l-7.72 7.72c-.78.78-.78 2.05 0 2.83L4 21.41c.39.39.9.59 1.41.59.51 0 1.02-.2 1.41-.59l7.78-7.78 2.81-2.81c.8-.78.8-2.07 0-2.86zM5.41 20L4 18.59l7.72-7.72 1.47 1.35L5.41 20z\"/>\n",
              "  </svg>\n",
              "      </button>\n",
              "      \n",
              "  <style>\n",
              "    .colab-df-container {\n",
              "      display:flex;\n",
              "      flex-wrap:wrap;\n",
              "      gap: 12px;\n",
              "    }\n",
              "\n",
              "    .colab-df-convert {\n",
              "      background-color: #E8F0FE;\n",
              "      border: none;\n",
              "      border-radius: 50%;\n",
              "      cursor: pointer;\n",
              "      display: none;\n",
              "      fill: #1967D2;\n",
              "      height: 32px;\n",
              "      padding: 0 0 0 0;\n",
              "      width: 32px;\n",
              "    }\n",
              "\n",
              "    .colab-df-convert:hover {\n",
              "      background-color: #E2EBFA;\n",
              "      box-shadow: 0px 1px 2px rgba(60, 64, 67, 0.3), 0px 1px 3px 1px rgba(60, 64, 67, 0.15);\n",
              "      fill: #174EA6;\n",
              "    }\n",
              "\n",
              "    [theme=dark] .colab-df-convert {\n",
              "      background-color: #3B4455;\n",
              "      fill: #D2E3FC;\n",
              "    }\n",
              "\n",
              "    [theme=dark] .colab-df-convert:hover {\n",
              "      background-color: #434B5C;\n",
              "      box-shadow: 0px 1px 3px 1px rgba(0, 0, 0, 0.15);\n",
              "      filter: drop-shadow(0px 1px 2px rgba(0, 0, 0, 0.3));\n",
              "      fill: #FFFFFF;\n",
              "    }\n",
              "  </style>\n",
              "\n",
              "      <script>\n",
              "        const buttonEl =\n",
              "          document.querySelector('#df-e5311a9b-8a66-4ea7-91fd-d4e68d6de315 button.colab-df-convert');\n",
              "        buttonEl.style.display =\n",
              "          google.colab.kernel.accessAllowed ? 'block' : 'none';\n",
              "\n",
              "        async function convertToInteractive(key) {\n",
              "          const element = document.querySelector('#df-e5311a9b-8a66-4ea7-91fd-d4e68d6de315');\n",
              "          const dataTable =\n",
              "            await google.colab.kernel.invokeFunction('convertToInteractive',\n",
              "                                                     [key], {});\n",
              "          if (!dataTable) return;\n",
              "\n",
              "          const docLinkHtml = 'Like what you see? Visit the ' +\n",
              "            '<a target=\"_blank\" href=https://colab.research.google.com/notebooks/data_table.ipynb>data table notebook</a>'\n",
              "            + ' to learn more about interactive tables.';\n",
              "          element.innerHTML = '';\n",
              "          dataTable['output_type'] = 'display_data';\n",
              "          await google.colab.output.renderOutput(dataTable, element);\n",
              "          const docLink = document.createElement('div');\n",
              "          docLink.innerHTML = docLinkHtml;\n",
              "          element.appendChild(docLink);\n",
              "        }\n",
              "      </script>\n",
              "    </div>\n",
              "  </div>\n",
              "  "
            ]
          },
          "metadata": {},
          "execution_count": 84
        }
      ]
    },
    {
      "cell_type": "code",
      "source": [
        "plt.figure(figsize=(20,12))\n",
        "plt.subplot(2, 1, 1)\n",
        "plt.title('Stock Price')\n",
        "plt.plot(df.Price,label='Close price')\n",
        "plt.legend()\n"
      ],
      "metadata": {
        "colab": {
          "base_uri": "https://localhost:8080/",
          "height": 271
        },
        "id": "ovBkLiFye1Gy",
        "outputId": "9b615df6-258f-4cb8-f5fd-e4a0592741e8"
      },
      "execution_count": 85,
      "outputs": [
        {
          "output_type": "execute_result",
          "data": {
            "text/plain": [
              "<matplotlib.legend.Legend at 0x7ff8f3869070>"
            ]
          },
          "metadata": {},
          "execution_count": 85
        },
        {
          "output_type": "display_data",
          "data": {
            "text/plain": [
              "<Figure size 1440x864 with 1 Axes>"
            ],
            "image/png": "[encoded data removed]"
          },
          "metadata": {
            "needs_background": "light"
          }
        }
      ]
    },
    {
      "cell_type": "code",
      "source": [
        "stepwise_fit = auto_arima(df['Price'], trace = True, suppress_warnings = True)\n",
        "stepwise_fit.summary()"
      ],
      "metadata": {
        "colab": {
          "base_uri": "https://localhost:8080/",
          "height": 941
        },
        "id": "U19XPx-jY50D",
        "outputId": "f1d55aeb-a03e-4352-d8d7-7ba3907a3798"
      },
      "execution_count": 86,
      "outputs": [
        {
          "output_type": "stream",
          "name": "stdout",
          "text": [
            "Performing stepwise search to minimize aic\n",
            " ARIMA(2,1,2)(0,0,0)[0] intercept   : AIC=22622.318, Time=1.65 sec\n",
            " ARIMA(0,1,0)(0,0,0)[0] intercept   : AIC=22630.427, Time=0.06 sec\n",
            " ARIMA(1,1,0)(0,0,0)[0] intercept   : AIC=22628.778, Time=0.12 sec\n",
            " ARIMA(0,1,1)(0,0,0)[0] intercept   : AIC=22628.749, Time=0.17 sec\n",
            " ARIMA(0,1,0)(0,0,0)[0]             : AIC=22628.598, Time=0.05 sec\n",
            " ARIMA(1,1,2)(0,0,0)[0] intercept   : AIC=22627.775, Time=0.53 sec\n",
            " ARIMA(2,1,1)(0,0,0)[0] intercept   : AIC=22632.111, Time=0.98 sec\n",
            " ARIMA(3,1,2)(0,0,0)[0] intercept   : AIC=22621.983, Time=0.87 sec\n",
            " ARIMA(3,1,1)(0,0,0)[0] intercept   : AIC=22622.176, Time=0.83 sec\n",
            " ARIMA(4,1,2)(0,0,0)[0] intercept   : AIC=22622.908, Time=3.22 sec\n",
            " ARIMA(3,1,3)(0,0,0)[0] intercept   : AIC=22623.980, Time=2.81 sec\n",
            " ARIMA(2,1,3)(0,0,0)[0] intercept   : AIC=22622.066, Time=1.91 sec\n",
            " ARIMA(4,1,1)(0,0,0)[0] intercept   : AIC=22620.963, Time=1.93 sec\n",
            " ARIMA(4,1,0)(0,0,0)[0] intercept   : AIC=22618.971, Time=0.83 sec\n",
            " ARIMA(3,1,0)(0,0,0)[0] intercept   : AIC=22625.483, Time=0.65 sec\n",
            " ARIMA(5,1,0)(0,0,0)[0] intercept   : AIC=22620.963, Time=0.98 sec\n",
            " ARIMA(5,1,1)(0,0,0)[0] intercept   : AIC=22622.964, Time=0.90 sec\n",
            " ARIMA(4,1,0)(0,0,0)[0]             : AIC=22617.105, Time=0.65 sec\n",
            " ARIMA(3,1,0)(0,0,0)[0]             : AIC=22623.676, Time=0.51 sec\n",
            " ARIMA(5,1,0)(0,0,0)[0]             : AIC=22619.095, Time=0.76 sec\n",
            " ARIMA(4,1,1)(0,0,0)[0]             : AIC=22619.093, Time=1.56 sec\n",
            " ARIMA(3,1,1)(0,0,0)[0]             : AIC=22620.339, Time=1.16 sec\n",
            " ARIMA(5,1,1)(0,0,0)[0]             : AIC=22621.096, Time=0.69 sec\n",
            "\n",
            "Best model:  ARIMA(4,1,0)(0,0,0)[0]          \n",
            "Total fit time: 23.869 seconds\n"
          ]
        },
        {
          "output_type": "execute_result",
          "data": {
            "text/plain": [
              "<class 'statsmodels.iolib.summary.Summary'>\n",
              "\"\"\"\n",
              "                               SARIMAX Results                                \n",
              "==============================================================================\n",
              "Dep. Variable:                      y   No. Observations:                 1249\n",
              "Model:               SARIMAX(4, 1, 0)   Log Likelihood              -11303.552\n",
              "Date:                Wed, 04 Jan 2023   AIC                          22617.105\n",
              "Time:                        19:05:10   BIC                          22642.751\n",
              "Sample:                             0   HQIC                         22626.747\n",
              "                               - 1249                                         \n",
              "Covariance Type:                  opg                                         \n",
              "==============================================================================\n",
              "                 coef    std err          z      P>|z|      [0.025      0.975]\n",
              "------------------------------------------------------------------------------\n",
              "ar.L1          0.0497      0.018      2.823      0.005       0.015       0.084\n",
              "ar.L2         -0.0028      0.022     -0.127      0.899      -0.046       0.041\n",
              "ar.L3         -0.0651      0.019     -3.460      0.001      -0.102      -0.028\n",
              "ar.L4          0.0662      0.018      3.645      0.000       0.031       0.102\n",
              "sigma2      4.307e+06   1.19e+05     36.235      0.000    4.07e+06    4.54e+06\n",
              "===================================================================================\n",
              "Ljung-Box (L1) (Q):                   0.45   Jarque-Bera (JB):               284.75\n",
              "Prob(Q):                              0.50   Prob(JB):                         0.00\n",
              "Heteroskedasticity (H):               2.15   Skew:                            -0.09\n",
              "Prob(H) (two-sided):                  0.00   Kurtosis:                         5.33\n",
              "===================================================================================\n",
              "\n",
              "Warnings:\n",
              "[1] Covariance matrix calculated using the outer product of gradients (complex-step).\n",
              "\"\"\""
            ],
            "text/html": [
              "<table class=\"simpletable\">\n",
              "<caption>SARIMAX Results</caption>\n",
              "<tr>\n",
              "  <th>Dep. Variable:</th>           <td>y</td>        <th>  No. Observations:  </th>    <td>1249</td>   \n",
              "</tr>\n",
              "<tr>\n",
              "  <th>Model:</th>           <td>SARIMAX(4, 1, 0)</td> <th>  Log Likelihood     </th> <td>-11303.552</td>\n",
              "</tr>\n",
              "<tr>\n",
              "  <th>Date:</th>            <td>Wed, 04 Jan 2023</td> <th>  AIC                </th>  <td>22617.105</td>\n",
              "</tr>\n",
              "<tr>\n",
              "  <th>Time:</th>                <td>19:05:10</td>     <th>  BIC                </th>  <td>22642.751</td>\n",
              "</tr>\n",
              "<tr>\n",
              "  <th>Sample:</th>                  <td>0</td>        <th>  HQIC               </th>  <td>22626.747</td>\n",
              "</tr>\n",
              "<tr>\n",
              "  <th></th>                      <td> - 1249</td>     <th>                     </th>      <td> </td>    \n",
              "</tr>\n",
              "<tr>\n",
              "  <th>Covariance Type:</th>        <td>opg</td>       <th>                     </th>      <td> </td>    \n",
              "</tr>\n",
              "</table>\n",
              "<table class=\"simpletable\">\n",
              "<tr>\n",
              "     <td></td>       <th>coef</th>     <th>std err</th>      <th>z</th>      <th>P>|z|</th>  <th>[0.025</th>    <th>0.975]</th>  \n",
              "</tr>\n",
              "<tr>\n",
              "  <th>ar.L1</th>  <td>    0.0497</td> <td>    0.018</td> <td>    2.823</td> <td> 0.005</td> <td>    0.015</td> <td>    0.084</td>\n",
              "</tr>\n",
              "<tr>\n",
              "  <th>ar.L2</th>  <td>   -0.0028</td> <td>    0.022</td> <td>   -0.127</td> <td> 0.899</td> <td>   -0.046</td> <td>    0.041</td>\n",
              "</tr>\n",
              "<tr>\n",
              "  <th>ar.L3</th>  <td>   -0.0651</td> <td>    0.019</td> <td>   -3.460</td> <td> 0.001</td> <td>   -0.102</td> <td>   -0.028</td>\n",
              "</tr>\n",
              "<tr>\n",
              "  <th>ar.L4</th>  <td>    0.0662</td> <td>    0.018</td> <td>    3.645</td> <td> 0.000</td> <td>    0.031</td> <td>    0.102</td>\n",
              "</tr>\n",
              "<tr>\n",
              "  <th>sigma2</th> <td> 4.307e+06</td> <td> 1.19e+05</td> <td>   36.235</td> <td> 0.000</td> <td> 4.07e+06</td> <td> 4.54e+06</td>\n",
              "</tr>\n",
              "</table>\n",
              "<table class=\"simpletable\">\n",
              "<tr>\n",
              "  <th>Ljung-Box (L1) (Q):</th>     <td>0.45</td> <th>  Jarque-Bera (JB):  </th> <td>284.75</td>\n",
              "</tr>\n",
              "<tr>\n",
              "  <th>Prob(Q):</th>                <td>0.50</td> <th>  Prob(JB):          </th>  <td>0.00</td> \n",
              "</tr>\n",
              "<tr>\n",
              "  <th>Heteroskedasticity (H):</th> <td>2.15</td> <th>  Skew:              </th>  <td>-0.09</td>\n",
              "</tr>\n",
              "<tr>\n",
              "  <th>Prob(H) (two-sided):</th>    <td>0.00</td> <th>  Kurtosis:          </th>  <td>5.33</td> \n",
              "</tr>\n",
              "</table><br/><br/>Warnings:<br/>[1] Covariance matrix calculated using the outer product of gradients (complex-step)."
            ]
          },
          "metadata": {},
          "execution_count": 86
        }
      ]
    },
    {
      "cell_type": "code",
      "source": [
        "def split_data(data, test_split):\n",
        "    length = len(data)\n",
        "    size = round(length * (1 - test_split))\n",
        "    train, test = data[:size], data[size:]\n",
        "    print('train:', len(train))\n",
        "    print('test:', len(test))\n",
        "    return train, test"
      ],
      "metadata": {
        "id": "8ktkxz5KkPzP"
      },
      "execution_count": 87,
      "outputs": []
    },
    {
      "cell_type": "code",
      "source": [
        "test_split = 0.1\n",
        "train, test = split_data(df, test_split)"
      ],
      "metadata": {
        "colab": {
          "base_uri": "https://localhost:8080/"
        },
        "id": "Op4uwQFuZECz",
        "outputId": "e3042e9f-f75e-4a84-9c8b-4293236022f3"
      },
      "execution_count": 88,
      "outputs": [
        {
          "output_type": "stream",
          "name": "stdout",
          "text": [
            "train: 1124\n",
            "test: 125\n"
          ]
        }
      ]
    },
    {
      "cell_type": "code",
      "source": [
        "import warnings\n",
        "warnings.filterwarnings(\"ignore\")"
      ],
      "metadata": {
        "id": "hBto9HHlZGXV"
      },
      "execution_count": 89,
      "outputs": []
    },
    {
      "cell_type": "code",
      "source": [
        "model = sm.tsa.arima.ARIMA(train['Price'], order = (4,1,0))\n",
        "model = model.fit()\n",
        "model.summary()"
      ],
      "metadata": {
        "id": "CqR2oqbt1Z5Y",
        "colab": {
          "base_uri": "https://localhost:8080/",
          "height": 473
        },
        "outputId": "61ab142b-5197-4735-9a42-aabb592037cb"
      },
      "execution_count": 90,
      "outputs": [
        {
          "output_type": "execute_result",
          "data": {
            "text/plain": [
              "<class 'statsmodels.iolib.summary.Summary'>\n",
              "\"\"\"\n",
              "                               SARIMAX Results                                \n",
              "==============================================================================\n",
              "Dep. Variable:                  Price   No. Observations:                 1124\n",
              "Model:                 ARIMA(4, 1, 0)   Log Likelihood              -10130.075\n",
              "Date:                Wed, 04 Jan 2023   AIC                          20270.151\n",
              "Time:                        19:05:10   BIC                          20295.270\n",
              "Sample:                             0   HQIC                         20279.644\n",
              "                               - 1124                                         \n",
              "Covariance Type:                  opg                                         \n",
              "==============================================================================\n",
              "                 coef    std err          z      P>|z|      [0.025      0.975]\n",
              "------------------------------------------------------------------------------\n",
              "ar.L1          0.0487      0.018      2.730      0.006       0.014       0.084\n",
              "ar.L2         -0.0130      0.021     -0.604      0.546      -0.055       0.029\n",
              "ar.L3         -0.0579      0.020     -2.878      0.004      -0.097      -0.018\n",
              "ar.L4          0.0767      0.017      4.509      0.000       0.043       0.110\n",
              "sigma2      3.997e+06   1.13e+05     35.404      0.000    3.78e+06    4.22e+06\n",
              "===================================================================================\n",
              "Ljung-Box (L1) (Q):                   0.47   Jarque-Bera (JB):               332.01\n",
              "Prob(Q):                              0.49   Prob(JB):                         0.00\n",
              "Heteroskedasticity (H):               1.78   Skew:                            -0.03\n",
              "Prob(H) (two-sided):                  0.00   Kurtosis:                         5.66\n",
              "===================================================================================\n",
              "\n",
              "Warnings:\n",
              "[1] Covariance matrix calculated using the outer product of gradients (complex-step).\n",
              "\"\"\""
            ],
            "text/html": [
              "<table class=\"simpletable\">\n",
              "<caption>SARIMAX Results</caption>\n",
              "<tr>\n",
              "  <th>Dep. Variable:</th>         <td>Price</td>      <th>  No. Observations:  </th>    <td>1124</td>   \n",
              "</tr>\n",
              "<tr>\n",
              "  <th>Model:</th>            <td>ARIMA(4, 1, 0)</td>  <th>  Log Likelihood     </th> <td>-10130.075</td>\n",
              "</tr>\n",
              "<tr>\n",
              "  <th>Date:</th>            <td>Wed, 04 Jan 2023</td> <th>  AIC                </th>  <td>20270.151</td>\n",
              "</tr>\n",
              "<tr>\n",
              "  <th>Time:</th>                <td>19:05:10</td>     <th>  BIC                </th>  <td>20295.270</td>\n",
              "</tr>\n",
              "<tr>\n",
              "  <th>Sample:</th>                  <td>0</td>        <th>  HQIC               </th>  <td>20279.644</td>\n",
              "</tr>\n",
              "<tr>\n",
              "  <th></th>                      <td> - 1124</td>     <th>                     </th>      <td> </td>    \n",
              "</tr>\n",
              "<tr>\n",
              "  <th>Covariance Type:</th>        <td>opg</td>       <th>                     </th>      <td> </td>    \n",
              "</tr>\n",
              "</table>\n",
              "<table class=\"simpletable\">\n",
              "<tr>\n",
              "     <td></td>       <th>coef</th>     <th>std err</th>      <th>z</th>      <th>P>|z|</th>  <th>[0.025</th>    <th>0.975]</th>  \n",
              "</tr>\n",
              "<tr>\n",
              "  <th>ar.L1</th>  <td>    0.0487</td> <td>    0.018</td> <td>    2.730</td> <td> 0.006</td> <td>    0.014</td> <td>    0.084</td>\n",
              "</tr>\n",
              "<tr>\n",
              "  <th>ar.L2</th>  <td>   -0.0130</td> <td>    0.021</td> <td>   -0.604</td> <td> 0.546</td> <td>   -0.055</td> <td>    0.029</td>\n",
              "</tr>\n",
              "<tr>\n",
              "  <th>ar.L3</th>  <td>   -0.0579</td> <td>    0.020</td> <td>   -2.878</td> <td> 0.004</td> <td>   -0.097</td> <td>   -0.018</td>\n",
              "</tr>\n",
              "<tr>\n",
              "  <th>ar.L4</th>  <td>    0.0767</td> <td>    0.017</td> <td>    4.509</td> <td> 0.000</td> <td>    0.043</td> <td>    0.110</td>\n",
              "</tr>\n",
              "<tr>\n",
              "  <th>sigma2</th> <td> 3.997e+06</td> <td> 1.13e+05</td> <td>   35.404</td> <td> 0.000</td> <td> 3.78e+06</td> <td> 4.22e+06</td>\n",
              "</tr>\n",
              "</table>\n",
              "<table class=\"simpletable\">\n",
              "<tr>\n",
              "  <th>Ljung-Box (L1) (Q):</th>     <td>0.47</td> <th>  Jarque-Bera (JB):  </th> <td>332.01</td>\n",
              "</tr>\n",
              "<tr>\n",
              "  <th>Prob(Q):</th>                <td>0.49</td> <th>  Prob(JB):          </th>  <td>0.00</td> \n",
              "</tr>\n",
              "<tr>\n",
              "  <th>Heteroskedasticity (H):</th> <td>1.78</td> <th>  Skew:              </th>  <td>-0.03</td>\n",
              "</tr>\n",
              "<tr>\n",
              "  <th>Prob(H) (two-sided):</th>    <td>0.00</td> <th>  Kurtosis:          </th>  <td>5.66</td> \n",
              "</tr>\n",
              "</table><br/><br/>Warnings:<br/>[1] Covariance matrix calculated using the outer product of gradients (complex-step)."
            ]
          },
          "metadata": {},
          "execution_count": 90
        }
      ]
    },
    {
      "cell_type": "code",
      "source": [
        "start = len(train)\n",
        "end = len(train) + len(test) -1\n",
        "pred = model.predict(start = start, end = end, typ = 'levels')\n",
        "\n",
        "print(pred)\n",
        "pred.index = df.index[start: end + 1]"
      ],
      "metadata": {
        "colab": {
          "base_uri": "https://localhost:8080/"
        },
        "id": "BleB9ugKkPtF",
        "outputId": "473e5976-843f-4115-d19e-b029eeec3831"
      },
      "execution_count": 91,
      "outputs": [
        {
          "output_type": "stream",
          "name": "stdout",
          "text": [
            "1124    117061.346940\n",
            "1125    116695.119646\n",
            "1126    116945.138273\n",
            "1127    117029.369575\n",
            "1128    117053.152549\n",
            "            ...      \n",
            "1244    117030.297824\n",
            "1245    117030.297824\n",
            "1246    117030.297824\n",
            "1247    117030.297824\n",
            "1248    117030.297824\n",
            "Name: predicted_mean, Length: 125, dtype: float64\n"
          ]
        }
      ]
    },
    {
      "cell_type": "code",
      "source": [
        "plt.figure(figsize = (12,5))\n",
        "pred.plot(legend = True)\n",
        "test['Price'].plot(legend= True)"
      ],
      "metadata": {
        "id": "DJMyJI4ikh_R",
        "colab": {
          "base_uri": "https://localhost:8080/",
          "height": 337
        },
        "outputId": "2ac9a8c9-8faf-407e-89c3-ce8b14858bce"
      },
      "execution_count": 92,
      "outputs": [
        {
          "output_type": "execute_result",
          "data": {
            "text/plain": [
              "<matplotlib.axes._subplots.AxesSubplot at 0x7ff8f298e850>"
            ]
          },
          "metadata": {},
          "execution_count": 92
        },
        {
          "output_type": "display_data",
          "data": {
            "text/plain": [
              "<Figure size 864x360 with 1 Axes>"
            ],
            "image/png": "[encoded data removed]"
          },
          "metadata": {
            "needs_background": "light"
          }
        }
      ]
    },
    {
      "cell_type": "code",
      "source": [
        "# using autoarima to get best predictions\n",
        "step= auto_arima(df.Price, trace=True)\n",
        "step.summary()"
      ],
      "metadata": {
        "colab": {
          "base_uri": "https://localhost:8080/",
          "height": 941
        },
        "id": "d8kNR0PaFhy8",
        "outputId": "ac645afe-e433-420e-89cc-5650a779649e"
      },
      "execution_count": 93,
      "outputs": [
        {
          "output_type": "stream",
          "name": "stdout",
          "text": [
            "Performing stepwise search to minimize aic\n",
            " ARIMA(2,1,2)(0,0,0)[0] intercept   : AIC=22622.318, Time=1.45 sec\n",
            " ARIMA(0,1,0)(0,0,0)[0] intercept   : AIC=22630.427, Time=0.06 sec\n",
            " ARIMA(1,1,0)(0,0,0)[0] intercept   : AIC=22628.778, Time=0.12 sec\n",
            " ARIMA(0,1,1)(0,0,0)[0] intercept   : AIC=22628.749, Time=0.15 sec\n",
            " ARIMA(0,1,0)(0,0,0)[0]             : AIC=22628.598, Time=0.04 sec\n",
            " ARIMA(1,1,2)(0,0,0)[0] intercept   : AIC=22627.775, Time=0.70 sec\n",
            " ARIMA(2,1,1)(0,0,0)[0] intercept   : AIC=22632.111, Time=0.93 sec\n",
            " ARIMA(3,1,2)(0,0,0)[0] intercept   : AIC=22621.983, Time=0.85 sec\n",
            " ARIMA(3,1,1)(0,0,0)[0] intercept   : AIC=22622.176, Time=1.08 sec\n",
            " ARIMA(4,1,2)(0,0,0)[0] intercept   : AIC=22622.908, Time=3.49 sec\n",
            " ARIMA(3,1,3)(0,0,0)[0] intercept   : AIC=22623.980, Time=2.79 sec\n",
            " ARIMA(2,1,3)(0,0,0)[0] intercept   : AIC=22622.066, Time=2.00 sec\n",
            " ARIMA(4,1,1)(0,0,0)[0] intercept   : AIC=22620.963, Time=2.74 sec\n",
            " ARIMA(4,1,0)(0,0,0)[0] intercept   : AIC=22618.971, Time=0.98 sec\n",
            " ARIMA(3,1,0)(0,0,0)[0] intercept   : AIC=22625.483, Time=0.91 sec\n",
            " ARIMA(5,1,0)(0,0,0)[0] intercept   : AIC=22620.963, Time=1.36 sec\n",
            " ARIMA(5,1,1)(0,0,0)[0] intercept   : AIC=22622.964, Time=1.73 sec\n",
            " ARIMA(4,1,0)(0,0,0)[0]             : AIC=22617.105, Time=0.70 sec\n",
            " ARIMA(3,1,0)(0,0,0)[0]             : AIC=22623.676, Time=0.55 sec\n",
            " ARIMA(5,1,0)(0,0,0)[0]             : AIC=22619.095, Time=0.81 sec\n",
            " ARIMA(4,1,1)(0,0,0)[0]             : AIC=22619.093, Time=2.27 sec\n",
            " ARIMA(3,1,1)(0,0,0)[0]             : AIC=22620.339, Time=1.63 sec\n",
            " ARIMA(5,1,1)(0,0,0)[0]             : AIC=22621.096, Time=1.14 sec\n",
            "\n",
            "Best model:  ARIMA(4,1,0)(0,0,0)[0]          \n",
            "Total fit time: 28.581 seconds\n"
          ]
        },
        {
          "output_type": "execute_result",
          "data": {
            "text/plain": [
              "<class 'statsmodels.iolib.summary.Summary'>\n",
              "\"\"\"\n",
              "                               SARIMAX Results                                \n",
              "==============================================================================\n",
              "Dep. Variable:                      y   No. Observations:                 1249\n",
              "Model:               SARIMAX(4, 1, 0)   Log Likelihood              -11303.552\n",
              "Date:                Wed, 04 Jan 2023   AIC                          22617.105\n",
              "Time:                        19:05:40   BIC                          22642.751\n",
              "Sample:                             0   HQIC                         22626.747\n",
              "                               - 1249                                         \n",
              "Covariance Type:                  opg                                         \n",
              "==============================================================================\n",
              "                 coef    std err          z      P>|z|      [0.025      0.975]\n",
              "------------------------------------------------------------------------------\n",
              "ar.L1          0.0497      0.018      2.823      0.005       0.015       0.084\n",
              "ar.L2         -0.0028      0.022     -0.127      0.899      -0.046       0.041\n",
              "ar.L3         -0.0651      0.019     -3.460      0.001      -0.102      -0.028\n",
              "ar.L4          0.0662      0.018      3.645      0.000       0.031       0.102\n",
              "sigma2      4.307e+06   1.19e+05     36.235      0.000    4.07e+06    4.54e+06\n",
              "===================================================================================\n",
              "Ljung-Box (L1) (Q):                   0.45   Jarque-Bera (JB):               284.75\n",
              "Prob(Q):                              0.50   Prob(JB):                         0.00\n",
              "Heteroskedasticity (H):               2.15   Skew:                            -0.09\n",
              "Prob(H) (two-sided):                  0.00   Kurtosis:                         5.33\n",
              "===================================================================================\n",
              "\n",
              "Warnings:\n",
              "[1] Covariance matrix calculated using the outer product of gradients (complex-step).\n",
              "\"\"\""
            ],
            "text/html": [
              "<table class=\"simpletable\">\n",
              "<caption>SARIMAX Results</caption>\n",
              "<tr>\n",
              "  <th>Dep. Variable:</th>           <td>y</td>        <th>  No. Observations:  </th>    <td>1249</td>   \n",
              "</tr>\n",
              "<tr>\n",
              "  <th>Model:</th>           <td>SARIMAX(4, 1, 0)</td> <th>  Log Likelihood     </th> <td>-11303.552</td>\n",
              "</tr>\n",
              "<tr>\n",
              "  <th>Date:</th>            <td>Wed, 04 Jan 2023</td> <th>  AIC                </th>  <td>22617.105</td>\n",
              "</tr>\n",
              "<tr>\n",
              "  <th>Time:</th>                <td>19:05:40</td>     <th>  BIC                </th>  <td>22642.751</td>\n",
              "</tr>\n",
              "<tr>\n",
              "  <th>Sample:</th>                  <td>0</td>        <th>  HQIC               </th>  <td>22626.747</td>\n",
              "</tr>\n",
              "<tr>\n",
              "  <th></th>                      <td> - 1249</td>     <th>                     </th>      <td> </td>    \n",
              "</tr>\n",
              "<tr>\n",
              "  <th>Covariance Type:</th>        <td>opg</td>       <th>                     </th>      <td> </td>    \n",
              "</tr>\n",
              "</table>\n",
              "<table class=\"simpletable\">\n",
              "<tr>\n",
              "     <td></td>       <th>coef</th>     <th>std err</th>      <th>z</th>      <th>P>|z|</th>  <th>[0.025</th>    <th>0.975]</th>  \n",
              "</tr>\n",
              "<tr>\n",
              "  <th>ar.L1</th>  <td>    0.0497</td> <td>    0.018</td> <td>    2.823</td> <td> 0.005</td> <td>    0.015</td> <td>    0.084</td>\n",
              "</tr>\n",
              "<tr>\n",
              "  <th>ar.L2</th>  <td>   -0.0028</td> <td>    0.022</td> <td>   -0.127</td> <td> 0.899</td> <td>   -0.046</td> <td>    0.041</td>\n",
              "</tr>\n",
              "<tr>\n",
              "  <th>ar.L3</th>  <td>   -0.0651</td> <td>    0.019</td> <td>   -3.460</td> <td> 0.001</td> <td>   -0.102</td> <td>   -0.028</td>\n",
              "</tr>\n",
              "<tr>\n",
              "  <th>ar.L4</th>  <td>    0.0662</td> <td>    0.018</td> <td>    3.645</td> <td> 0.000</td> <td>    0.031</td> <td>    0.102</td>\n",
              "</tr>\n",
              "<tr>\n",
              "  <th>sigma2</th> <td> 4.307e+06</td> <td> 1.19e+05</td> <td>   36.235</td> <td> 0.000</td> <td> 4.07e+06</td> <td> 4.54e+06</td>\n",
              "</tr>\n",
              "</table>\n",
              "<table class=\"simpletable\">\n",
              "<tr>\n",
              "  <th>Ljung-Box (L1) (Q):</th>     <td>0.45</td> <th>  Jarque-Bera (JB):  </th> <td>284.75</td>\n",
              "</tr>\n",
              "<tr>\n",
              "  <th>Prob(Q):</th>                <td>0.50</td> <th>  Prob(JB):          </th>  <td>0.00</td> \n",
              "</tr>\n",
              "<tr>\n",
              "  <th>Heteroskedasticity (H):</th> <td>2.15</td> <th>  Skew:              </th>  <td>-0.09</td>\n",
              "</tr>\n",
              "<tr>\n",
              "  <th>Prob(H) (two-sided):</th>    <td>0.00</td> <th>  Kurtosis:          </th>  <td>5.33</td> \n",
              "</tr>\n",
              "</table><br/><br/>Warnings:<br/>[1] Covariance matrix calculated using the outer product of gradients (complex-step)."
            ]
          },
          "metadata": {},
          "execution_count": 93
        }
      ]
    },
    {
      "cell_type": "code",
      "source": [
        "from sklearn.metrics import mean_squared_error\n",
        "from sklearn.metrics import mean_absolute_percentage_error\n",
        "\n",
        "mse =  mean_squared_error(pred, test['Price'])\n",
        "rmse = sqrt(mse)\n",
        "mape = mean_absolute_percentage_error(pred, test['Price'])\n",
        "print(\"RMSE: \", rmse)\n",
        "print(\"MAPE: \", mape * 100)"
      ],
      "metadata": {
        "colab": {
          "base_uri": "https://localhost:8080/"
        },
        "id": "jOoLAobNEXzb",
        "outputId": "d541903f-2455-4379-a088-5c7ba06ceda7"
      },
      "execution_count": 94,
      "outputs": [
        {
          "output_type": "stream",
          "name": "stdout",
          "text": [
            "RMSE:  20086.545194937837\n",
            "MAPE:  13.681383549975687\n"
          ]
        }
      ]
    }
  ]
}