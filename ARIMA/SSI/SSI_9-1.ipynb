{
  "nbformat": 4,
  "nbformat_minor": 0,
  "metadata": {
    "colab": {
      "provenance": []
    },
    "kernelspec": {
      "name": "python3",
      "display_name": "Python 3"
    },
    "language_info": {
      "name": "python"
    }
  },
  "cells": [
    {
      "cell_type": "code",
      "execution_count": 95,
      "metadata": {
        "id": "fIiKyCURKv2Y",
        "colab": {
          "base_uri": "https://localhost:8080/"
        },
        "outputId": "7657379a-a8d6-487a-bf89-ce623dcc3bbf"
      },
      "outputs": [
        {
          "output_type": "stream",
          "name": "stdout",
          "text": [
            "Looking in indexes: https://pypi.org/simple, https://us-python.pkg.dev/colab-wheels/public/simple/\n",
            "Requirement already satisfied: pmdarima in /usr/local/lib/python3.8/dist-packages (2.0.2)\n",
            "Requirement already satisfied: scikit-learn>=0.22 in /usr/local/lib/python3.8/dist-packages (from pmdarima) (1.0.2)\n",
            "Requirement already satisfied: setuptools!=50.0.0,>=38.6.0 in /usr/local/lib/python3.8/dist-packages (from pmdarima) (57.4.0)\n",
            "Requirement already satisfied: numpy>=1.21.2 in /usr/local/lib/python3.8/dist-packages (from pmdarima) (1.21.6)\n",
            "Requirement already satisfied: pandas>=0.19 in /usr/local/lib/python3.8/dist-packages (from pmdarima) (1.3.5)\n",
            "Requirement already satisfied: urllib3 in /usr/local/lib/python3.8/dist-packages (from pmdarima) (1.24.3)\n",
            "Requirement already satisfied: statsmodels>=0.13.2 in /usr/local/lib/python3.8/dist-packages (from pmdarima) (0.13.5)\n",
            "Requirement already satisfied: joblib>=0.11 in /usr/local/lib/python3.8/dist-packages (from pmdarima) (1.2.0)\n",
            "Requirement already satisfied: Cython!=0.29.18,!=0.29.31,>=0.29 in /usr/local/lib/python3.8/dist-packages (from pmdarima) (0.29.32)\n",
            "Requirement already satisfied: scipy>=1.3.2 in /usr/local/lib/python3.8/dist-packages (from pmdarima) (1.7.3)\n",
            "Requirement already satisfied: python-dateutil>=2.7.3 in /usr/local/lib/python3.8/dist-packages (from pandas>=0.19->pmdarima) (2.8.2)\n",
            "Requirement already satisfied: pytz>=2017.3 in /usr/local/lib/python3.8/dist-packages (from pandas>=0.19->pmdarima) (2022.7)\n",
            "Requirement already satisfied: threadpoolctl>=2.0.0 in /usr/local/lib/python3.8/dist-packages (from scikit-learn>=0.22->pmdarima) (3.1.0)\n",
            "Requirement already satisfied: patsy>=0.5.2 in /usr/local/lib/python3.8/dist-packages (from statsmodels>=0.13.2->pmdarima) (0.5.3)\n",
            "Requirement already satisfied: packaging>=21.3 in /usr/local/lib/python3.8/dist-packages (from statsmodels>=0.13.2->pmdarima) (21.3)\n",
            "Requirement already satisfied: pyparsing!=3.0.5,>=2.0.2 in /usr/local/lib/python3.8/dist-packages (from packaging>=21.3->statsmodels>=0.13.2->pmdarima) (3.0.9)\n",
            "Requirement already satisfied: six in /usr/local/lib/python3.8/dist-packages (from patsy>=0.5.2->statsmodels>=0.13.2->pmdarima) (1.15.0)\n"
          ]
        }
      ],
      "source": [
        "!pip install pmdarima"
      ]
    },
    {
      "cell_type": "code",
      "source": [
        "import pandas as pd\n",
        "import numpy as np\n",
        "import matplotlib.pyplot as plt\n",
        "from statsmodels.tsa.arima_model import ARIMA\n",
        "import statsmodels.api as sm\n",
        "from pmdarima import auto_arima\n",
        "from statsmodels.tsa.seasonal import seasonal_decompose\n",
        "from statsmodels.tsa.stattools import adfuller\n",
        "from math import sqrt"
      ],
      "metadata": {
        "id": "8KisnXuycfLl"
      },
      "execution_count": 96,
      "outputs": []
    },
    {
      "cell_type": "code",
      "source": [
        "df = pd.read_csv(\"SSI Historical Data.csv\")"
      ],
      "metadata": {
        "id": "zUMBHJPNLR7v"
      },
      "execution_count": 97,
      "outputs": []
    },
    {
      "cell_type": "code",
      "source": [
        "df.head()"
      ],
      "metadata": {
        "colab": {
          "base_uri": "https://localhost:8080/",
          "height": 206
        },
        "id": "WWVndgYYLR5u",
        "outputId": "f2cfb72d-b8b8-4696-a5b3-ff32442c6d06"
      },
      "execution_count": 98,
      "outputs": [
        {
          "output_type": "execute_result",
          "data": {
            "text/plain": [
              "        Date    Price     Open     High      Low        Vol.  Change %\n",
              "0  12/1/2017  13928.5  13625.2  14105.5  13574.6  10420000.0      0.02\n",
              "1  12/4/2017  14712.2  14054.9  14813.3  13979.1  11520000.0      0.06\n",
              "2  12/5/2017  14257.2  14661.6  14712.2  14156.1  11100000.0     -0.03\n",
              "3  12/6/2017  14130.8  14206.6  14257.2  13625.2  14660000.0     -0.01\n",
              "4  12/7/2017  13701.0  14130.8  14156.1  13599.9   8850000.0     -0.03"
            ],
            "text/html": [
              "\n",
              "  <div id=\"df-2f699ffb-53e7-4930-8801-c9e735a35c06\">\n",
              "    <div class=\"colab-df-container\">\n",
              "      <div>\n",
              "<style scoped>\n",
              "    .dataframe tbody tr th:only-of-type {\n",
              "        vertical-align: middle;\n",
              "    }\n",
              "\n",
              "    .dataframe tbody tr th {\n",
              "        vertical-align: top;\n",
              "    }\n",
              "\n",
              "    .dataframe thead th {\n",
              "        text-align: right;\n",
              "    }\n",
              "</style>\n",
              "<table border=\"1\" class=\"dataframe\">\n",
              "  <thead>\n",
              "    <tr style=\"text-align: right;\">\n",
              "      <th></th>\n",
              "      <th>Date</th>\n",
              "      <th>Price</th>\n",
              "      <th>Open</th>\n",
              "      <th>High</th>\n",
              "      <th>Low</th>\n",
              "      <th>Vol.</th>\n",
              "      <th>Change %</th>\n",
              "    </tr>\n",
              "  </thead>\n",
              "  <tbody>\n",
              "    <tr>\n",
              "      <th>0</th>\n",
              "      <td>12/1/2017</td>\n",
              "      <td>13928.5</td>\n",
              "      <td>13625.2</td>\n",
              "      <td>14105.5</td>\n",
              "      <td>13574.6</td>\n",
              "      <td>10420000.0</td>\n",
              "      <td>0.02</td>\n",
              "    </tr>\n",
              "    <tr>\n",
              "      <th>1</th>\n",
              "      <td>12/4/2017</td>\n",
              "      <td>14712.2</td>\n",
              "      <td>14054.9</td>\n",
              "      <td>14813.3</td>\n",
              "      <td>13979.1</td>\n",
              "      <td>11520000.0</td>\n",
              "      <td>0.06</td>\n",
              "    </tr>\n",
              "    <tr>\n",
              "      <th>2</th>\n",
              "      <td>12/5/2017</td>\n",
              "      <td>14257.2</td>\n",
              "      <td>14661.6</td>\n",
              "      <td>14712.2</td>\n",
              "      <td>14156.1</td>\n",
              "      <td>11100000.0</td>\n",
              "      <td>-0.03</td>\n",
              "    </tr>\n",
              "    <tr>\n",
              "      <th>3</th>\n",
              "      <td>12/6/2017</td>\n",
              "      <td>14130.8</td>\n",
              "      <td>14206.6</td>\n",
              "      <td>14257.2</td>\n",
              "      <td>13625.2</td>\n",
              "      <td>14660000.0</td>\n",
              "      <td>-0.01</td>\n",
              "    </tr>\n",
              "    <tr>\n",
              "      <th>4</th>\n",
              "      <td>12/7/2017</td>\n",
              "      <td>13701.0</td>\n",
              "      <td>14130.8</td>\n",
              "      <td>14156.1</td>\n",
              "      <td>13599.9</td>\n",
              "      <td>8850000.0</td>\n",
              "      <td>-0.03</td>\n",
              "    </tr>\n",
              "  </tbody>\n",
              "</table>\n",
              "</div>\n",
              "      <button class=\"colab-df-convert\" onclick=\"convertToInteractive('df-2f699ffb-53e7-4930-8801-c9e735a35c06')\"\n",
              "              title=\"Convert this dataframe to an interactive table.\"\n",
              "              style=\"display:none;\">\n",
              "        \n",
              "  <svg xmlns=\"http://www.w3.org/2000/svg\" height=\"24px\"viewBox=\"0 0 24 24\"\n",
              "       width=\"24px\">\n",
              "    <path d=\"M0 0h24v24H0V0z\" fill=\"none\"/>\n",
              "    <path d=\"M18.56 5.44l.94 2.06.94-2.06 2.06-.94-2.06-.94-.94-2.06-.94 2.06-2.06.94zm-11 1L8.5 8.5l.94-2.06 2.06-.94-2.06-.94L8.5 2.5l-.94 2.06-2.06.94zm10 10l.94 2.06.94-2.06 2.06-.94-2.06-.94-.94-2.06-.94 2.06-2.06.94z\"/><path d=\"M17.41 7.96l-1.37-1.37c-.4-.4-.92-.59-1.43-.59-.52 0-1.04.2-1.43.59L10.3 9.45l-7.72 7.72c-.78.78-.78 2.05 0 2.83L4 21.41c.39.39.9.59 1.41.59.51 0 1.02-.2 1.41-.59l7.78-7.78 2.81-2.81c.8-.78.8-2.07 0-2.86zM5.41 20L4 18.59l7.72-7.72 1.47 1.35L5.41 20z\"/>\n",
              "  </svg>\n",
              "      </button>\n",
              "      \n",
              "  <style>\n",
              "    .colab-df-container {\n",
              "      display:flex;\n",
              "      flex-wrap:wrap;\n",
              "      gap: 12px;\n",
              "    }\n",
              "\n",
              "    .colab-df-convert {\n",
              "      background-color: #E8F0FE;\n",
              "      border: none;\n",
              "      border-radius: 50%;\n",
              "      cursor: pointer;\n",
              "      display: none;\n",
              "      fill: #1967D2;\n",
              "      height: 32px;\n",
              "      padding: 0 0 0 0;\n",
              "      width: 32px;\n",
              "    }\n",
              "\n",
              "    .colab-df-convert:hover {\n",
              "      background-color: #E2EBFA;\n",
              "      box-shadow: 0px 1px 2px rgba(60, 64, 67, 0.3), 0px 1px 3px 1px rgba(60, 64, 67, 0.15);\n",
              "      fill: #174EA6;\n",
              "    }\n",
              "\n",
              "    [theme=dark] .colab-df-convert {\n",
              "      background-color: #3B4455;\n",
              "      fill: #D2E3FC;\n",
              "    }\n",
              "\n",
              "    [theme=dark] .colab-df-convert:hover {\n",
              "      background-color: #434B5C;\n",
              "      box-shadow: 0px 1px 3px 1px rgba(0, 0, 0, 0.15);\n",
              "      filter: drop-shadow(0px 1px 2px rgba(0, 0, 0, 0.3));\n",
              "      fill: #FFFFFF;\n",
              "    }\n",
              "  </style>\n",
              "\n",
              "      <script>\n",
              "        const buttonEl =\n",
              "          document.querySelector('#df-2f699ffb-53e7-4930-8801-c9e735a35c06 button.colab-df-convert');\n",
              "        buttonEl.style.display =\n",
              "          google.colab.kernel.accessAllowed ? 'block' : 'none';\n",
              "\n",
              "        async function convertToInteractive(key) {\n",
              "          const element = document.querySelector('#df-2f699ffb-53e7-4930-8801-c9e735a35c06');\n",
              "          const dataTable =\n",
              "            await google.colab.kernel.invokeFunction('convertToInteractive',\n",
              "                                                     [key], {});\n",
              "          if (!dataTable) return;\n",
              "\n",
              "          const docLinkHtml = 'Like what you see? Visit the ' +\n",
              "            '<a target=\"_blank\" href=https://colab.research.google.com/notebooks/data_table.ipynb>data table notebook</a>'\n",
              "            + ' to learn more about interactive tables.';\n",
              "          element.innerHTML = '';\n",
              "          dataTable['output_type'] = 'display_data';\n",
              "          await google.colab.output.renderOutput(dataTable, element);\n",
              "          const docLink = document.createElement('div');\n",
              "          docLink.innerHTML = docLinkHtml;\n",
              "          element.appendChild(docLink);\n",
              "        }\n",
              "      </script>\n",
              "    </div>\n",
              "  </div>\n",
              "  "
            ]
          },
          "metadata": {},
          "execution_count": 98
        }
      ]
    },
    {
      "cell_type": "code",
      "source": [
        "df.info()"
      ],
      "metadata": {
        "colab": {
          "base_uri": "https://localhost:8080/"
        },
        "id": "m3ii8pUjLR4H",
        "outputId": "5e1e87d1-88ce-4a71-a7d8-4523cc7105a4"
      },
      "execution_count": 99,
      "outputs": [
        {
          "output_type": "stream",
          "name": "stdout",
          "text": [
            "<class 'pandas.core.frame.DataFrame'>\n",
            "RangeIndex: 1249 entries, 0 to 1248\n",
            "Data columns (total 7 columns):\n",
            " #   Column    Non-Null Count  Dtype  \n",
            "---  ------    --------------  -----  \n",
            " 0   Date      1249 non-null   object \n",
            " 1   Price     1249 non-null   float64\n",
            " 2   Open      1249 non-null   float64\n",
            " 3   High      1249 non-null   float64\n",
            " 4   Low       1249 non-null   float64\n",
            " 5   Vol.      1249 non-null   float64\n",
            " 6   Change %  1249 non-null   float64\n",
            "dtypes: float64(6), object(1)\n",
            "memory usage: 68.4+ KB\n"
          ]
        }
      ]
    },
    {
      "cell_type": "code",
      "source": [
        "df.describe()"
      ],
      "metadata": {
        "colab": {
          "base_uri": "https://localhost:8080/",
          "height": 300
        },
        "id": "OU3m4JZ3LR1_",
        "outputId": "cbf9e812-1e09-4e1c-9332-12f618aab25b"
      },
      "execution_count": 100,
      "outputs": [
        {
          "output_type": "execute_result",
          "data": {
            "text/plain": [
              "              Price          Open          High           Low          Vol.  \\\n",
              "count   1249.000000   1249.000000   1249.000000   1249.000000  1.249000e+03   \n",
              "mean   19021.627142  19029.526821  19362.803443  18705.430184  1.071232e+07   \n",
              "std    10081.046795  10105.514290  10299.946745   9906.441351  8.454212e+06   \n",
              "min     6264.400000   6318.900000   6482.300000   6046.500000  6.682300e+05   \n",
              "25%    11630.000000  11711.700000  11805.200000  11556.100000  3.800000e+06   \n",
              "50%    15445.300000  15375.400000  15723.300000  15167.200000  8.190000e+06   \n",
              "75%    21260.800000  21335.200000  21700.000000  21021.900000  1.598000e+07   \n",
              "max    49668.900000  50468.500000  51268.200000  48869.200000  4.780000e+07   \n",
              "\n",
              "          Change %  \n",
              "count  1249.000000  \n",
              "mean      0.000568  \n",
              "std       0.027725  \n",
              "min      -0.070000  \n",
              "25%      -0.010000  \n",
              "50%       0.000000  \n",
              "75%       0.010000  \n",
              "max       0.090000  "
            ],
            "text/html": [
              "\n",
              "  <div id=\"df-30759959-2d02-47a3-b063-cc2676d8615f\">\n",
              "    <div class=\"colab-df-container\">\n",
              "      <div>\n",
              "<style scoped>\n",
              "    .dataframe tbody tr th:only-of-type {\n",
              "        vertical-align: middle;\n",
              "    }\n",
              "\n",
              "    .dataframe tbody tr th {\n",
              "        vertical-align: top;\n",
              "    }\n",
              "\n",
              "    .dataframe thead th {\n",
              "        text-align: right;\n",
              "    }\n",
              "</style>\n",
              "<table border=\"1\" class=\"dataframe\">\n",
              "  <thead>\n",
              "    <tr style=\"text-align: right;\">\n",
              "      <th></th>\n",
              "      <th>Price</th>\n",
              "      <th>Open</th>\n",
              "      <th>High</th>\n",
              "      <th>Low</th>\n",
              "      <th>Vol.</th>\n",
              "      <th>Change %</th>\n",
              "    </tr>\n",
              "  </thead>\n",
              "  <tbody>\n",
              "    <tr>\n",
              "      <th>count</th>\n",
              "      <td>1249.000000</td>\n",
              "      <td>1249.000000</td>\n",
              "      <td>1249.000000</td>\n",
              "      <td>1249.000000</td>\n",
              "      <td>1.249000e+03</td>\n",
              "      <td>1249.000000</td>\n",
              "    </tr>\n",
              "    <tr>\n",
              "      <th>mean</th>\n",
              "      <td>19021.627142</td>\n",
              "      <td>19029.526821</td>\n",
              "      <td>19362.803443</td>\n",
              "      <td>18705.430184</td>\n",
              "      <td>1.071232e+07</td>\n",
              "      <td>0.000568</td>\n",
              "    </tr>\n",
              "    <tr>\n",
              "      <th>std</th>\n",
              "      <td>10081.046795</td>\n",
              "      <td>10105.514290</td>\n",
              "      <td>10299.946745</td>\n",
              "      <td>9906.441351</td>\n",
              "      <td>8.454212e+06</td>\n",
              "      <td>0.027725</td>\n",
              "    </tr>\n",
              "    <tr>\n",
              "      <th>min</th>\n",
              "      <td>6264.400000</td>\n",
              "      <td>6318.900000</td>\n",
              "      <td>6482.300000</td>\n",
              "      <td>6046.500000</td>\n",
              "      <td>6.682300e+05</td>\n",
              "      <td>-0.070000</td>\n",
              "    </tr>\n",
              "    <tr>\n",
              "      <th>25%</th>\n",
              "      <td>11630.000000</td>\n",
              "      <td>11711.700000</td>\n",
              "      <td>11805.200000</td>\n",
              "      <td>11556.100000</td>\n",
              "      <td>3.800000e+06</td>\n",
              "      <td>-0.010000</td>\n",
              "    </tr>\n",
              "    <tr>\n",
              "      <th>50%</th>\n",
              "      <td>15445.300000</td>\n",
              "      <td>15375.400000</td>\n",
              "      <td>15723.300000</td>\n",
              "      <td>15167.200000</td>\n",
              "      <td>8.190000e+06</td>\n",
              "      <td>0.000000</td>\n",
              "    </tr>\n",
              "    <tr>\n",
              "      <th>75%</th>\n",
              "      <td>21260.800000</td>\n",
              "      <td>21335.200000</td>\n",
              "      <td>21700.000000</td>\n",
              "      <td>21021.900000</td>\n",
              "      <td>1.598000e+07</td>\n",
              "      <td>0.010000</td>\n",
              "    </tr>\n",
              "    <tr>\n",
              "      <th>max</th>\n",
              "      <td>49668.900000</td>\n",
              "      <td>50468.500000</td>\n",
              "      <td>51268.200000</td>\n",
              "      <td>48869.200000</td>\n",
              "      <td>4.780000e+07</td>\n",
              "      <td>0.090000</td>\n",
              "    </tr>\n",
              "  </tbody>\n",
              "</table>\n",
              "</div>\n",
              "      <button class=\"colab-df-convert\" onclick=\"convertToInteractive('df-30759959-2d02-47a3-b063-cc2676d8615f')\"\n",
              "              title=\"Convert this dataframe to an interactive table.\"\n",
              "              style=\"display:none;\">\n",
              "        \n",
              "  <svg xmlns=\"http://www.w3.org/2000/svg\" height=\"24px\"viewBox=\"0 0 24 24\"\n",
              "       width=\"24px\">\n",
              "    <path d=\"M0 0h24v24H0V0z\" fill=\"none\"/>\n",
              "    <path d=\"M18.56 5.44l.94 2.06.94-2.06 2.06-.94-2.06-.94-.94-2.06-.94 2.06-2.06.94zm-11 1L8.5 8.5l.94-2.06 2.06-.94-2.06-.94L8.5 2.5l-.94 2.06-2.06.94zm10 10l.94 2.06.94-2.06 2.06-.94-2.06-.94-.94-2.06-.94 2.06-2.06.94z\"/><path d=\"M17.41 7.96l-1.37-1.37c-.4-.4-.92-.59-1.43-.59-.52 0-1.04.2-1.43.59L10.3 9.45l-7.72 7.72c-.78.78-.78 2.05 0 2.83L4 21.41c.39.39.9.59 1.41.59.51 0 1.02-.2 1.41-.59l7.78-7.78 2.81-2.81c.8-.78.8-2.07 0-2.86zM5.41 20L4 18.59l7.72-7.72 1.47 1.35L5.41 20z\"/>\n",
              "  </svg>\n",
              "      </button>\n",
              "      \n",
              "  <style>\n",
              "    .colab-df-container {\n",
              "      display:flex;\n",
              "      flex-wrap:wrap;\n",
              "      gap: 12px;\n",
              "    }\n",
              "\n",
              "    .colab-df-convert {\n",
              "      background-color: #E8F0FE;\n",
              "      border: none;\n",
              "      border-radius: 50%;\n",
              "      cursor: pointer;\n",
              "      display: none;\n",
              "      fill: #1967D2;\n",
              "      height: 32px;\n",
              "      padding: 0 0 0 0;\n",
              "      width: 32px;\n",
              "    }\n",
              "\n",
              "    .colab-df-convert:hover {\n",
              "      background-color: #E2EBFA;\n",
              "      box-shadow: 0px 1px 2px rgba(60, 64, 67, 0.3), 0px 1px 3px 1px rgba(60, 64, 67, 0.15);\n",
              "      fill: #174EA6;\n",
              "    }\n",
              "\n",
              "    [theme=dark] .colab-df-convert {\n",
              "      background-color: #3B4455;\n",
              "      fill: #D2E3FC;\n",
              "    }\n",
              "\n",
              "    [theme=dark] .colab-df-convert:hover {\n",
              "      background-color: #434B5C;\n",
              "      box-shadow: 0px 1px 3px 1px rgba(0, 0, 0, 0.15);\n",
              "      filter: drop-shadow(0px 1px 2px rgba(0, 0, 0, 0.3));\n",
              "      fill: #FFFFFF;\n",
              "    }\n",
              "  </style>\n",
              "\n",
              "      <script>\n",
              "        const buttonEl =\n",
              "          document.querySelector('#df-30759959-2d02-47a3-b063-cc2676d8615f button.colab-df-convert');\n",
              "        buttonEl.style.display =\n",
              "          google.colab.kernel.accessAllowed ? 'block' : 'none';\n",
              "\n",
              "        async function convertToInteractive(key) {\n",
              "          const element = document.querySelector('#df-30759959-2d02-47a3-b063-cc2676d8615f');\n",
              "          const dataTable =\n",
              "            await google.colab.kernel.invokeFunction('convertToInteractive',\n",
              "                                                     [key], {});\n",
              "          if (!dataTable) return;\n",
              "\n",
              "          const docLinkHtml = 'Like what you see? Visit the ' +\n",
              "            '<a target=\"_blank\" href=https://colab.research.google.com/notebooks/data_table.ipynb>data table notebook</a>'\n",
              "            + ' to learn more about interactive tables.';\n",
              "          element.innerHTML = '';\n",
              "          dataTable['output_type'] = 'display_data';\n",
              "          await google.colab.output.renderOutput(dataTable, element);\n",
              "          const docLink = document.createElement('div');\n",
              "          docLink.innerHTML = docLinkHtml;\n",
              "          element.appendChild(docLink);\n",
              "        }\n",
              "      </script>\n",
              "    </div>\n",
              "  </div>\n",
              "  "
            ]
          },
          "metadata": {},
          "execution_count": 100
        }
      ]
    },
    {
      "cell_type": "code",
      "source": [
        "plt.figure(figsize=(20,12))\n",
        "plt.subplot(2, 1, 1)\n",
        "plt.title('Stock Price')\n",
        "plt.plot(df.Price,label='Close price')\n",
        "plt.legend()\n"
      ],
      "metadata": {
        "colab": {
          "base_uri": "https://localhost:8080/",
          "height": 272
        },
        "id": "ovBkLiFye1Gy",
        "outputId": "a51527a6-2c79-4ec6-a899-c2686bef65f3"
      },
      "execution_count": 101,
      "outputs": [
        {
          "output_type": "execute_result",
          "data": {
            "text/plain": [
              "<matplotlib.legend.Legend at 0x7ff8f22d5160>"
            ]
          },
          "metadata": {},
          "execution_count": 101
        },
        {
          "output_type": "display_data",
          "data": {
            "text/plain": [
              "<Figure size 1440x864 with 1 Axes>"
            ],
            "image/png": "[encoded data removed]"
          },
          "metadata": {
            "needs_background": "light"
          }
        }
      ]
    },
    {
      "cell_type": "code",
      "source": [
        "stepwise_fit = auto_arima(df['Price'], trace = True, suppress_warnings = True)\n",
        "stepwise_fit.summary()"
      ],
      "metadata": {
        "colab": {
          "base_uri": "https://localhost:8080/",
          "height": 561
        },
        "id": "U19XPx-jY50D",
        "outputId": "94272bef-a310-4940-e1ec-8e8947d368f9"
      },
      "execution_count": 102,
      "outputs": [
        {
          "output_type": "stream",
          "name": "stdout",
          "text": [
            "Performing stepwise search to minimize aic\n",
            " ARIMA(2,1,2)(0,0,0)[0] intercept   : AIC=19560.652, Time=0.32 sec\n",
            " ARIMA(0,1,0)(0,0,0)[0] intercept   : AIC=19556.765, Time=0.12 sec\n",
            " ARIMA(1,1,0)(0,0,0)[0] intercept   : AIC=19554.924, Time=0.22 sec\n",
            " ARIMA(0,1,1)(0,0,0)[0] intercept   : AIC=19554.819, Time=0.39 sec\n",
            " ARIMA(0,1,0)(0,0,0)[0]             : AIC=19554.805, Time=0.05 sec\n",
            " ARIMA(1,1,1)(0,0,0)[0] intercept   : AIC=19556.627, Time=0.46 sec\n",
            "\n",
            "Best model:  ARIMA(0,1,0)(0,0,0)[0]          \n",
            "Total fit time: 1.578 seconds\n"
          ]
        },
        {
          "output_type": "execute_result",
          "data": {
            "text/plain": [
              "<class 'statsmodels.iolib.summary.Summary'>\n",
              "\"\"\"\n",
              "                               SARIMAX Results                                \n",
              "==============================================================================\n",
              "Dep. Variable:                      y   No. Observations:                 1249\n",
              "Model:               SARIMAX(0, 1, 0)   Log Likelihood               -9776.402\n",
              "Date:                Wed, 04 Jan 2023   AIC                          19554.805\n",
              "Time:                        19:14:14   BIC                          19559.934\n",
              "Sample:                             0   HQIC                         19556.733\n",
              "                               - 1249                                         \n",
              "Covariance Type:                  opg                                         \n",
              "==============================================================================\n",
              "                 coef    std err          z      P>|z|      [0.025      0.975]\n",
              "------------------------------------------------------------------------------\n",
              "sigma2      3.727e+05   8332.811     44.731      0.000    3.56e+05    3.89e+05\n",
              "===================================================================================\n",
              "Ljung-Box (L1) (Q):                   3.11   Jarque-Bera (JB):              1010.79\n",
              "Prob(Q):                              0.08   Prob(JB):                         0.00\n",
              "Heteroskedasticity (H):               6.17   Skew:                            -0.09\n",
              "Prob(H) (two-sided):                  0.00   Kurtosis:                         7.41\n",
              "===================================================================================\n",
              "\n",
              "Warnings:\n",
              "[1] Covariance matrix calculated using the outer product of gradients (complex-step).\n",
              "\"\"\""
            ],
            "text/html": [
              "<table class=\"simpletable\">\n",
              "<caption>SARIMAX Results</caption>\n",
              "<tr>\n",
              "  <th>Dep. Variable:</th>           <td>y</td>        <th>  No. Observations:  </th>   <td>1249</td>   \n",
              "</tr>\n",
              "<tr>\n",
              "  <th>Model:</th>           <td>SARIMAX(0, 1, 0)</td> <th>  Log Likelihood     </th> <td>-9776.402</td>\n",
              "</tr>\n",
              "<tr>\n",
              "  <th>Date:</th>            <td>Wed, 04 Jan 2023</td> <th>  AIC                </th> <td>19554.805</td>\n",
              "</tr>\n",
              "<tr>\n",
              "  <th>Time:</th>                <td>19:14:14</td>     <th>  BIC                </th> <td>19559.934</td>\n",
              "</tr>\n",
              "<tr>\n",
              "  <th>Sample:</th>                  <td>0</td>        <th>  HQIC               </th> <td>19556.733</td>\n",
              "</tr>\n",
              "<tr>\n",
              "  <th></th>                      <td> - 1249</td>     <th>                     </th>     <td> </td>    \n",
              "</tr>\n",
              "<tr>\n",
              "  <th>Covariance Type:</th>        <td>opg</td>       <th>                     </th>     <td> </td>    \n",
              "</tr>\n",
              "</table>\n",
              "<table class=\"simpletable\">\n",
              "<tr>\n",
              "     <td></td>       <th>coef</th>     <th>std err</th>      <th>z</th>      <th>P>|z|</th>  <th>[0.025</th>    <th>0.975]</th>  \n",
              "</tr>\n",
              "<tr>\n",
              "  <th>sigma2</th> <td> 3.727e+05</td> <td> 8332.811</td> <td>   44.731</td> <td> 0.000</td> <td> 3.56e+05</td> <td> 3.89e+05</td>\n",
              "</tr>\n",
              "</table>\n",
              "<table class=\"simpletable\">\n",
              "<tr>\n",
              "  <th>Ljung-Box (L1) (Q):</th>     <td>3.11</td> <th>  Jarque-Bera (JB):  </th> <td>1010.79</td>\n",
              "</tr>\n",
              "<tr>\n",
              "  <th>Prob(Q):</th>                <td>0.08</td> <th>  Prob(JB):          </th>  <td>0.00</td>  \n",
              "</tr>\n",
              "<tr>\n",
              "  <th>Heteroskedasticity (H):</th> <td>6.17</td> <th>  Skew:              </th>  <td>-0.09</td> \n",
              "</tr>\n",
              "<tr>\n",
              "  <th>Prob(H) (two-sided):</th>    <td>0.00</td> <th>  Kurtosis:          </th>  <td>7.41</td>  \n",
              "</tr>\n",
              "</table><br/><br/>Warnings:<br/>[1] Covariance matrix calculated using the outer product of gradients (complex-step)."
            ]
          },
          "metadata": {},
          "execution_count": 102
        }
      ]
    },
    {
      "cell_type": "code",
      "source": [
        "def split_data(data, test_split):\n",
        "    length = len(data)\n",
        "    size = round(length * (1 - test_split))\n",
        "    train, test = data[:size], data[size:]\n",
        "    print('train:', len(train))\n",
        "    print('test:', len(test))\n",
        "    return train, test"
      ],
      "metadata": {
        "id": "8ktkxz5KkPzP"
      },
      "execution_count": 103,
      "outputs": []
    },
    {
      "cell_type": "code",
      "source": [
        "test_split = 0.1\n",
        "train, test = split_data(df, test_split)"
      ],
      "metadata": {
        "colab": {
          "base_uri": "https://localhost:8080/"
        },
        "id": "Op4uwQFuZECz",
        "outputId": "0d5c0759-3eed-48da-d848-7140779cbdc8"
      },
      "execution_count": 104,
      "outputs": [
        {
          "output_type": "stream",
          "name": "stdout",
          "text": [
            "train: 1124\n",
            "test: 125\n"
          ]
        }
      ]
    },
    {
      "cell_type": "code",
      "source": [
        "import warnings\n",
        "warnings.filterwarnings(\"ignore\")"
      ],
      "metadata": {
        "id": "hBto9HHlZGXV"
      },
      "execution_count": 105,
      "outputs": []
    },
    {
      "cell_type": "code",
      "source": [
        "model = sm.tsa.arima.ARIMA(train['Price'], order = (4,1,0))\n",
        "model = model.fit()\n",
        "model.summary()"
      ],
      "metadata": {
        "id": "CqR2oqbt1Z5Y",
        "colab": {
          "base_uri": "https://localhost:8080/",
          "height": 473
        },
        "outputId": "065f62ef-7813-402e-f8b8-42218dbac5ad"
      },
      "execution_count": 106,
      "outputs": [
        {
          "output_type": "execute_result",
          "data": {
            "text/plain": [
              "<class 'statsmodels.iolib.summary.Summary'>\n",
              "\"\"\"\n",
              "                               SARIMAX Results                                \n",
              "==============================================================================\n",
              "Dep. Variable:                  Price   No. Observations:                 1124\n",
              "Model:                 ARIMA(4, 1, 0)   Log Likelihood               -8774.796\n",
              "Date:                Wed, 04 Jan 2023   AIC                          17559.592\n",
              "Time:                        19:14:15   BIC                          17584.711\n",
              "Sample:                             0   HQIC                         17569.085\n",
              "                               - 1124                                         \n",
              "Covariance Type:                  opg                                         \n",
              "==============================================================================\n",
              "                 coef    std err          z      P>|z|      [0.025      0.975]\n",
              "------------------------------------------------------------------------------\n",
              "ar.L1          0.0356      0.018      1.978      0.048       0.000       0.071\n",
              "ar.L2         -0.0312      0.019     -1.629      0.103      -0.069       0.006\n",
              "ar.L3         -0.0043      0.017     -0.256      0.798      -0.037       0.029\n",
              "ar.L4          0.0389      0.016      2.424      0.015       0.007       0.070\n",
              "sigma2      3.589e+05   8277.792     43.357      0.000    3.43e+05    3.75e+05\n",
              "===================================================================================\n",
              "Ljung-Box (L1) (Q):                   0.09   Jarque-Bera (JB):              1247.90\n",
              "Prob(Q):                              0.77   Prob(JB):                         0.00\n",
              "Heteroskedasticity (H):               5.72   Skew:                            -0.04\n",
              "Prob(H) (two-sided):                  0.00   Kurtosis:                         8.16\n",
              "===================================================================================\n",
              "\n",
              "Warnings:\n",
              "[1] Covariance matrix calculated using the outer product of gradients (complex-step).\n",
              "\"\"\""
            ],
            "text/html": [
              "<table class=\"simpletable\">\n",
              "<caption>SARIMAX Results</caption>\n",
              "<tr>\n",
              "  <th>Dep. Variable:</th>         <td>Price</td>      <th>  No. Observations:  </th>   <td>1124</td>   \n",
              "</tr>\n",
              "<tr>\n",
              "  <th>Model:</th>            <td>ARIMA(4, 1, 0)</td>  <th>  Log Likelihood     </th> <td>-8774.796</td>\n",
              "</tr>\n",
              "<tr>\n",
              "  <th>Date:</th>            <td>Wed, 04 Jan 2023</td> <th>  AIC                </th> <td>17559.592</td>\n",
              "</tr>\n",
              "<tr>\n",
              "  <th>Time:</th>                <td>19:14:15</td>     <th>  BIC                </th> <td>17584.711</td>\n",
              "</tr>\n",
              "<tr>\n",
              "  <th>Sample:</th>                  <td>0</td>        <th>  HQIC               </th> <td>17569.085</td>\n",
              "</tr>\n",
              "<tr>\n",
              "  <th></th>                      <td> - 1124</td>     <th>                     </th>     <td> </td>    \n",
              "</tr>\n",
              "<tr>\n",
              "  <th>Covariance Type:</th>        <td>opg</td>       <th>                     </th>     <td> </td>    \n",
              "</tr>\n",
              "</table>\n",
              "<table class=\"simpletable\">\n",
              "<tr>\n",
              "     <td></td>       <th>coef</th>     <th>std err</th>      <th>z</th>      <th>P>|z|</th>  <th>[0.025</th>    <th>0.975]</th>  \n",
              "</tr>\n",
              "<tr>\n",
              "  <th>ar.L1</th>  <td>    0.0356</td> <td>    0.018</td> <td>    1.978</td> <td> 0.048</td> <td>    0.000</td> <td>    0.071</td>\n",
              "</tr>\n",
              "<tr>\n",
              "  <th>ar.L2</th>  <td>   -0.0312</td> <td>    0.019</td> <td>   -1.629</td> <td> 0.103</td> <td>   -0.069</td> <td>    0.006</td>\n",
              "</tr>\n",
              "<tr>\n",
              "  <th>ar.L3</th>  <td>   -0.0043</td> <td>    0.017</td> <td>   -0.256</td> <td> 0.798</td> <td>   -0.037</td> <td>    0.029</td>\n",
              "</tr>\n",
              "<tr>\n",
              "  <th>ar.L4</th>  <td>    0.0389</td> <td>    0.016</td> <td>    2.424</td> <td> 0.015</td> <td>    0.007</td> <td>    0.070</td>\n",
              "</tr>\n",
              "<tr>\n",
              "  <th>sigma2</th> <td> 3.589e+05</td> <td> 8277.792</td> <td>   43.357</td> <td> 0.000</td> <td> 3.43e+05</td> <td> 3.75e+05</td>\n",
              "</tr>\n",
              "</table>\n",
              "<table class=\"simpletable\">\n",
              "<tr>\n",
              "  <th>Ljung-Box (L1) (Q):</th>     <td>0.09</td> <th>  Jarque-Bera (JB):  </th> <td>1247.90</td>\n",
              "</tr>\n",
              "<tr>\n",
              "  <th>Prob(Q):</th>                <td>0.77</td> <th>  Prob(JB):          </th>  <td>0.00</td>  \n",
              "</tr>\n",
              "<tr>\n",
              "  <th>Heteroskedasticity (H):</th> <td>5.72</td> <th>  Skew:              </th>  <td>-0.04</td> \n",
              "</tr>\n",
              "<tr>\n",
              "  <th>Prob(H) (two-sided):</th>    <td>0.00</td> <th>  Kurtosis:          </th>  <td>8.16</td>  \n",
              "</tr>\n",
              "</table><br/><br/>Warnings:<br/>[1] Covariance matrix calculated using the outer product of gradients (complex-step)."
            ]
          },
          "metadata": {},
          "execution_count": 106
        }
      ]
    },
    {
      "cell_type": "code",
      "source": [
        "start = len(train)\n",
        "end = len(train) + len(test) -1\n",
        "pred = model.predict(start = start, end = end, typ = 'levels')\n",
        "\n",
        "print(pred)\n",
        "pred.index = df.index[start: end + 1]"
      ],
      "metadata": {
        "colab": {
          "base_uri": "https://localhost:8080/"
        },
        "id": "BleB9ugKkPtF",
        "outputId": "6c77f8ac-b721-4fa7-bf9c-508b33276d71"
      },
      "execution_count": 107,
      "outputs": [
        {
          "output_type": "stream",
          "name": "stdout",
          "text": [
            "1124    25018.294897\n",
            "1125    25048.676521\n",
            "1126    25045.382164\n",
            "1127    25016.867163\n",
            "1128    25014.336475\n",
            "            ...     \n",
            "1244    25015.243660\n",
            "1245    25015.243660\n",
            "1246    25015.243660\n",
            "1247    25015.243660\n",
            "1248    25015.243660\n",
            "Name: predicted_mean, Length: 125, dtype: float64\n"
          ]
        }
      ]
    },
    {
      "cell_type": "code",
      "source": [
        "plt.figure(figsize = (12,5))\n",
        "pred.plot(legend = True)\n",
        "test['Price'].plot(legend= True)"
      ],
      "metadata": {
        "id": "DJMyJI4ikh_R",
        "colab": {
          "base_uri": "https://localhost:8080/",
          "height": 337
        },
        "outputId": "3cb9a6ec-ece8-4c61-f325-e5ffc2e0077f"
      },
      "execution_count": 108,
      "outputs": [
        {
          "output_type": "execute_result",
          "data": {
            "text/plain": [
              "<matplotlib.axes._subplots.AxesSubplot at 0x7ff8f26875b0>"
            ]
          },
          "metadata": {},
          "execution_count": 108
        },
        {
          "output_type": "display_data",
          "data": {
            "text/plain": [
              "<Figure size 864x360 with 1 Axes>"
            ],
            "image/png": "[encoded data removed]"
          },
          "metadata": {
            "needs_background": "light"
          }
        }
      ]
    },
    {
      "cell_type": "code",
      "source": [
        "# using autoarima to get best predictions\n",
        "step= auto_arima(df.Price, trace=True)\n",
        "step.summary()"
      ],
      "metadata": {
        "colab": {
          "base_uri": "https://localhost:8080/",
          "height": 561
        },
        "id": "d8kNR0PaFhy8",
        "outputId": "6c108fb1-1ee2-4329-fa10-d0415e70e4c8"
      },
      "execution_count": 109,
      "outputs": [
        {
          "output_type": "stream",
          "name": "stdout",
          "text": [
            "Performing stepwise search to minimize aic\n",
            " ARIMA(2,1,2)(0,0,0)[0] intercept   : AIC=19560.652, Time=0.35 sec\n",
            " ARIMA(0,1,0)(0,0,0)[0] intercept   : AIC=19556.765, Time=0.27 sec\n",
            " ARIMA(1,1,0)(0,0,0)[0] intercept   : AIC=19554.924, Time=0.15 sec\n",
            " ARIMA(0,1,1)(0,0,0)[0] intercept   : AIC=19554.819, Time=0.28 sec\n",
            " ARIMA(0,1,0)(0,0,0)[0]             : AIC=19554.805, Time=0.04 sec\n",
            " ARIMA(1,1,1)(0,0,0)[0] intercept   : AIC=19556.627, Time=0.46 sec\n",
            "\n",
            "Best model:  ARIMA(0,1,0)(0,0,0)[0]          \n",
            "Total fit time: 1.566 seconds\n"
          ]
        },
        {
          "output_type": "execute_result",
          "data": {
            "text/plain": [
              "<class 'statsmodels.iolib.summary.Summary'>\n",
              "\"\"\"\n",
              "                               SARIMAX Results                                \n",
              "==============================================================================\n",
              "Dep. Variable:                      y   No. Observations:                 1249\n",
              "Model:               SARIMAX(0, 1, 0)   Log Likelihood               -9776.402\n",
              "Date:                Wed, 04 Jan 2023   AIC                          19554.805\n",
              "Time:                        19:14:16   BIC                          19559.934\n",
              "Sample:                             0   HQIC                         19556.733\n",
              "                               - 1249                                         \n",
              "Covariance Type:                  opg                                         \n",
              "==============================================================================\n",
              "                 coef    std err          z      P>|z|      [0.025      0.975]\n",
              "------------------------------------------------------------------------------\n",
              "sigma2      3.727e+05   8332.811     44.731      0.000    3.56e+05    3.89e+05\n",
              "===================================================================================\n",
              "Ljung-Box (L1) (Q):                   3.11   Jarque-Bera (JB):              1010.79\n",
              "Prob(Q):                              0.08   Prob(JB):                         0.00\n",
              "Heteroskedasticity (H):               6.17   Skew:                            -0.09\n",
              "Prob(H) (two-sided):                  0.00   Kurtosis:                         7.41\n",
              "===================================================================================\n",
              "\n",
              "Warnings:\n",
              "[1] Covariance matrix calculated using the outer product of gradients (complex-step).\n",
              "\"\"\""
            ],
            "text/html": [
              "<table class=\"simpletable\">\n",
              "<caption>SARIMAX Results</caption>\n",
              "<tr>\n",
              "  <th>Dep. Variable:</th>           <td>y</td>        <th>  No. Observations:  </th>   <td>1249</td>   \n",
              "</tr>\n",
              "<tr>\n",
              "  <th>Model:</th>           <td>SARIMAX(0, 1, 0)</td> <th>  Log Likelihood     </th> <td>-9776.402</td>\n",
              "</tr>\n",
              "<tr>\n",
              "  <th>Date:</th>            <td>Wed, 04 Jan 2023</td> <th>  AIC                </th> <td>19554.805</td>\n",
              "</tr>\n",
              "<tr>\n",
              "  <th>Time:</th>                <td>19:14:16</td>     <th>  BIC                </th> <td>19559.934</td>\n",
              "</tr>\n",
              "<tr>\n",
              "  <th>Sample:</th>                  <td>0</td>        <th>  HQIC               </th> <td>19556.733</td>\n",
              "</tr>\n",
              "<tr>\n",
              "  <th></th>                      <td> - 1249</td>     <th>                     </th>     <td> </td>    \n",
              "</tr>\n",
              "<tr>\n",
              "  <th>Covariance Type:</th>        <td>opg</td>       <th>                     </th>     <td> </td>    \n",
              "</tr>\n",
              "</table>\n",
              "<table class=\"simpletable\">\n",
              "<tr>\n",
              "     <td></td>       <th>coef</th>     <th>std err</th>      <th>z</th>      <th>P>|z|</th>  <th>[0.025</th>    <th>0.975]</th>  \n",
              "</tr>\n",
              "<tr>\n",
              "  <th>sigma2</th> <td> 3.727e+05</td> <td> 8332.811</td> <td>   44.731</td> <td> 0.000</td> <td> 3.56e+05</td> <td> 3.89e+05</td>\n",
              "</tr>\n",
              "</table>\n",
              "<table class=\"simpletable\">\n",
              "<tr>\n",
              "  <th>Ljung-Box (L1) (Q):</th>     <td>3.11</td> <th>  Jarque-Bera (JB):  </th> <td>1010.79</td>\n",
              "</tr>\n",
              "<tr>\n",
              "  <th>Prob(Q):</th>                <td>0.08</td> <th>  Prob(JB):          </th>  <td>0.00</td>  \n",
              "</tr>\n",
              "<tr>\n",
              "  <th>Heteroskedasticity (H):</th> <td>6.17</td> <th>  Skew:              </th>  <td>-0.09</td> \n",
              "</tr>\n",
              "<tr>\n",
              "  <th>Prob(H) (two-sided):</th>    <td>0.00</td> <th>  Kurtosis:          </th>  <td>7.41</td>  \n",
              "</tr>\n",
              "</table><br/><br/>Warnings:<br/>[1] Covariance matrix calculated using the outer product of gradients (complex-step)."
            ]
          },
          "metadata": {},
          "execution_count": 109
        }
      ]
    },
    {
      "cell_type": "code",
      "source": [
        "from sklearn.metrics import mean_squared_error\n",
        "from sklearn.metrics import mean_absolute_percentage_error\n",
        "\n",
        "mse =  mean_squared_error(pred, test['Price'])\n",
        "rmse = sqrt(mse)\n",
        "mape = mean_absolute_percentage_error(pred, test['Price'])\n",
        "print(\"RMSE: \", rmse)\n",
        "print(\"MAPE: \", mape * 100)"
      ],
      "metadata": {
        "colab": {
          "base_uri": "https://localhost:8080/"
        },
        "id": "jOoLAobNEXzb",
        "outputId": "902223a1-2efa-47e5-c9fe-87cd385c9423"
      },
      "execution_count": 110,
      "outputs": [
        {
          "output_type": "stream",
          "name": "stdout",
          "text": [
            "RMSE:  6067.810620338091\n",
            "MAPE:  20.63924486936292\n"
          ]
        }
      ]
    }
  ]
}