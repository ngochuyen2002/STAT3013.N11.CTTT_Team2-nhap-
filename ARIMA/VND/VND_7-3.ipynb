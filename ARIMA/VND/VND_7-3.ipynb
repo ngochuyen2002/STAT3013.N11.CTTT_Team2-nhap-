{
  "nbformat": 4,
  "nbformat_minor": 0,
  "metadata": {
    "colab": {
      "provenance": []
    },
    "kernelspec": {
      "name": "python3",
      "display_name": "Python 3"
    },
    "language_info": {
      "name": "python"
    }
  },
  "cells": [
    {
      "cell_type": "code",
      "execution_count": 143,
      "metadata": {
        "id": "fIiKyCURKv2Y",
        "colab": {
          "base_uri": "https://localhost:8080/"
        },
        "outputId": "70200658-9019-4699-f65c-eeb4780aa56f"
      },
      "outputs": [
        {
          "output_type": "stream",
          "name": "stdout",
          "text": [
            "Looking in indexes: https://pypi.org/simple, https://us-python.pkg.dev/colab-wheels/public/simple/\n",
            "Requirement already satisfied: pmdarima in /usr/local/lib/python3.8/dist-packages (2.0.2)\n",
            "Requirement already satisfied: joblib>=0.11 in /usr/local/lib/python3.8/dist-packages (from pmdarima) (1.2.0)\n",
            "Requirement already satisfied: urllib3 in /usr/local/lib/python3.8/dist-packages (from pmdarima) (1.24.3)\n",
            "Requirement already satisfied: setuptools!=50.0.0,>=38.6.0 in /usr/local/lib/python3.8/dist-packages (from pmdarima) (57.4.0)\n",
            "Requirement already satisfied: numpy>=1.21.2 in /usr/local/lib/python3.8/dist-packages (from pmdarima) (1.21.6)\n",
            "Requirement already satisfied: pandas>=0.19 in /usr/local/lib/python3.8/dist-packages (from pmdarima) (1.3.5)\n",
            "Requirement already satisfied: Cython!=0.29.18,!=0.29.31,>=0.29 in /usr/local/lib/python3.8/dist-packages (from pmdarima) (0.29.32)\n",
            "Requirement already satisfied: scikit-learn>=0.22 in /usr/local/lib/python3.8/dist-packages (from pmdarima) (1.0.2)\n",
            "Requirement already satisfied: statsmodels>=0.13.2 in /usr/local/lib/python3.8/dist-packages (from pmdarima) (0.13.5)\n",
            "Requirement already satisfied: scipy>=1.3.2 in /usr/local/lib/python3.8/dist-packages (from pmdarima) (1.7.3)\n",
            "Requirement already satisfied: python-dateutil>=2.7.3 in /usr/local/lib/python3.8/dist-packages (from pandas>=0.19->pmdarima) (2.8.2)\n",
            "Requirement already satisfied: pytz>=2017.3 in /usr/local/lib/python3.8/dist-packages (from pandas>=0.19->pmdarima) (2022.7)\n",
            "Requirement already satisfied: threadpoolctl>=2.0.0 in /usr/local/lib/python3.8/dist-packages (from scikit-learn>=0.22->pmdarima) (3.1.0)\n",
            "Requirement already satisfied: patsy>=0.5.2 in /usr/local/lib/python3.8/dist-packages (from statsmodels>=0.13.2->pmdarima) (0.5.3)\n",
            "Requirement already satisfied: packaging>=21.3 in /usr/local/lib/python3.8/dist-packages (from statsmodels>=0.13.2->pmdarima) (21.3)\n",
            "Requirement already satisfied: pyparsing!=3.0.5,>=2.0.2 in /usr/local/lib/python3.8/dist-packages (from packaging>=21.3->statsmodels>=0.13.2->pmdarima) (3.0.9)\n",
            "Requirement already satisfied: six in /usr/local/lib/python3.8/dist-packages (from patsy>=0.5.2->statsmodels>=0.13.2->pmdarima) (1.15.0)\n"
          ]
        }
      ],
      "source": [
        "!pip install pmdarima"
      ]
    },
    {
      "cell_type": "code",
      "source": [
        "import pandas as pd\n",
        "import numpy as np\n",
        "import matplotlib.pyplot as plt\n",
        "from statsmodels.tsa.arima_model import ARIMA\n",
        "import statsmodels.api as sm\n",
        "from pmdarima import auto_arima\n",
        "from statsmodels.tsa.seasonal import seasonal_decompose\n",
        "from statsmodels.tsa.stattools import adfuller\n",
        "from math import sqrt"
      ],
      "metadata": {
        "id": "8KisnXuycfLl"
      },
      "execution_count": 144,
      "outputs": []
    },
    {
      "cell_type": "code",
      "source": [
        "df = pd.read_csv(\"VND Historical Data.csv\")"
      ],
      "metadata": {
        "id": "zUMBHJPNLR7v"
      },
      "execution_count": 145,
      "outputs": []
    },
    {
      "cell_type": "code",
      "source": [
        "df.head()"
      ],
      "metadata": {
        "colab": {
          "base_uri": "https://localhost:8080/",
          "height": 206
        },
        "id": "WWVndgYYLR5u",
        "outputId": "4c90c9e0-262a-4cd2-a3f6-9832e8f0a9cc"
      },
      "execution_count": 146,
      "outputs": [
        {
          "output_type": "execute_result",
          "data": {
            "text/plain": [
              "        Date    Price     Open     High      Low       Vol.  Change %\n",
              "0  12/1/2017  16511.9  16477.2  16615.9  16338.4  1060000.0      0.01\n",
              "1  12/4/2017  16997.5  16720.0  17309.7  16615.9  1600000.0      0.03\n",
              "2  12/5/2017  16303.7  16997.5  16997.5  16303.7  2360000.0     -0.04\n",
              "3  12/6/2017  16234.4  16234.4  16373.1  15748.7  2620000.0      0.00\n",
              "4  12/7/2017  15818.1  16303.7  16338.4  15679.3  1070000.0     -0.03"
            ],
            "text/html": [
              "\n",
              "  <div id=\"df-38730c9a-5fa6-41c6-8d83-ec89f74e7fa3\">\n",
              "    <div class=\"colab-df-container\">\n",
              "      <div>\n",
              "<style scoped>\n",
              "    .dataframe tbody tr th:only-of-type {\n",
              "        vertical-align: middle;\n",
              "    }\n",
              "\n",
              "    .dataframe tbody tr th {\n",
              "        vertical-align: top;\n",
              "    }\n",
              "\n",
              "    .dataframe thead th {\n",
              "        text-align: right;\n",
              "    }\n",
              "</style>\n",
              "<table border=\"1\" class=\"dataframe\">\n",
              "  <thead>\n",
              "    <tr style=\"text-align: right;\">\n",
              "      <th></th>\n",
              "      <th>Date</th>\n",
              "      <th>Price</th>\n",
              "      <th>Open</th>\n",
              "      <th>High</th>\n",
              "      <th>Low</th>\n",
              "      <th>Vol.</th>\n",
              "      <th>Change %</th>\n",
              "    </tr>\n",
              "  </thead>\n",
              "  <tbody>\n",
              "    <tr>\n",
              "      <th>0</th>\n",
              "      <td>12/1/2017</td>\n",
              "      <td>16511.9</td>\n",
              "      <td>16477.2</td>\n",
              "      <td>16615.9</td>\n",
              "      <td>16338.4</td>\n",
              "      <td>1060000.0</td>\n",
              "      <td>0.01</td>\n",
              "    </tr>\n",
              "    <tr>\n",
              "      <th>1</th>\n",
              "      <td>12/4/2017</td>\n",
              "      <td>16997.5</td>\n",
              "      <td>16720.0</td>\n",
              "      <td>17309.7</td>\n",
              "      <td>16615.9</td>\n",
              "      <td>1600000.0</td>\n",
              "      <td>0.03</td>\n",
              "    </tr>\n",
              "    <tr>\n",
              "      <th>2</th>\n",
              "      <td>12/5/2017</td>\n",
              "      <td>16303.7</td>\n",
              "      <td>16997.5</td>\n",
              "      <td>16997.5</td>\n",
              "      <td>16303.7</td>\n",
              "      <td>2360000.0</td>\n",
              "      <td>-0.04</td>\n",
              "    </tr>\n",
              "    <tr>\n",
              "      <th>3</th>\n",
              "      <td>12/6/2017</td>\n",
              "      <td>16234.4</td>\n",
              "      <td>16234.4</td>\n",
              "      <td>16373.1</td>\n",
              "      <td>15748.7</td>\n",
              "      <td>2620000.0</td>\n",
              "      <td>0.00</td>\n",
              "    </tr>\n",
              "    <tr>\n",
              "      <th>4</th>\n",
              "      <td>12/7/2017</td>\n",
              "      <td>15818.1</td>\n",
              "      <td>16303.7</td>\n",
              "      <td>16338.4</td>\n",
              "      <td>15679.3</td>\n",
              "      <td>1070000.0</td>\n",
              "      <td>-0.03</td>\n",
              "    </tr>\n",
              "  </tbody>\n",
              "</table>\n",
              "</div>\n",
              "      <button class=\"colab-df-convert\" onclick=\"convertToInteractive('df-38730c9a-5fa6-41c6-8d83-ec89f74e7fa3')\"\n",
              "              title=\"Convert this dataframe to an interactive table.\"\n",
              "              style=\"display:none;\">\n",
              "        \n",
              "  <svg xmlns=\"http://www.w3.org/2000/svg\" height=\"24px\"viewBox=\"0 0 24 24\"\n",
              "       width=\"24px\">\n",
              "    <path d=\"M0 0h24v24H0V0z\" fill=\"none\"/>\n",
              "    <path d=\"M18.56 5.44l.94 2.06.94-2.06 2.06-.94-2.06-.94-.94-2.06-.94 2.06-2.06.94zm-11 1L8.5 8.5l.94-2.06 2.06-.94-2.06-.94L8.5 2.5l-.94 2.06-2.06.94zm10 10l.94 2.06.94-2.06 2.06-.94-2.06-.94-.94-2.06-.94 2.06-2.06.94z\"/><path d=\"M17.41 7.96l-1.37-1.37c-.4-.4-.92-.59-1.43-.59-.52 0-1.04.2-1.43.59L10.3 9.45l-7.72 7.72c-.78.78-.78 2.05 0 2.83L4 21.41c.39.39.9.59 1.41.59.51 0 1.02-.2 1.41-.59l7.78-7.78 2.81-2.81c.8-.78.8-2.07 0-2.86zM5.41 20L4 18.59l7.72-7.72 1.47 1.35L5.41 20z\"/>\n",
              "  </svg>\n",
              "      </button>\n",
              "      \n",
              "  <style>\n",
              "    .colab-df-container {\n",
              "      display:flex;\n",
              "      flex-wrap:wrap;\n",
              "      gap: 12px;\n",
              "    }\n",
              "\n",
              "    .colab-df-convert {\n",
              "      background-color: #E8F0FE;\n",
              "      border: none;\n",
              "      border-radius: 50%;\n",
              "      cursor: pointer;\n",
              "      display: none;\n",
              "      fill: #1967D2;\n",
              "      height: 32px;\n",
              "      padding: 0 0 0 0;\n",
              "      width: 32px;\n",
              "    }\n",
              "\n",
              "    .colab-df-convert:hover {\n",
              "      background-color: #E2EBFA;\n",
              "      box-shadow: 0px 1px 2px rgba(60, 64, 67, 0.3), 0px 1px 3px 1px rgba(60, 64, 67, 0.15);\n",
              "      fill: #174EA6;\n",
              "    }\n",
              "\n",
              "    [theme=dark] .colab-df-convert {\n",
              "      background-color: #3B4455;\n",
              "      fill: #D2E3FC;\n",
              "    }\n",
              "\n",
              "    [theme=dark] .colab-df-convert:hover {\n",
              "      background-color: #434B5C;\n",
              "      box-shadow: 0px 1px 3px 1px rgba(0, 0, 0, 0.15);\n",
              "      filter: drop-shadow(0px 1px 2px rgba(0, 0, 0, 0.3));\n",
              "      fill: #FFFFFF;\n",
              "    }\n",
              "  </style>\n",
              "\n",
              "      <script>\n",
              "        const buttonEl =\n",
              "          document.querySelector('#df-38730c9a-5fa6-41c6-8d83-ec89f74e7fa3 button.colab-df-convert');\n",
              "        buttonEl.style.display =\n",
              "          google.colab.kernel.accessAllowed ? 'block' : 'none';\n",
              "\n",
              "        async function convertToInteractive(key) {\n",
              "          const element = document.querySelector('#df-38730c9a-5fa6-41c6-8d83-ec89f74e7fa3');\n",
              "          const dataTable =\n",
              "            await google.colab.kernel.invokeFunction('convertToInteractive',\n",
              "                                                     [key], {});\n",
              "          if (!dataTable) return;\n",
              "\n",
              "          const docLinkHtml = 'Like what you see? Visit the ' +\n",
              "            '<a target=\"_blank\" href=https://colab.research.google.com/notebooks/data_table.ipynb>data table notebook</a>'\n",
              "            + ' to learn more about interactive tables.';\n",
              "          element.innerHTML = '';\n",
              "          dataTable['output_type'] = 'display_data';\n",
              "          await google.colab.output.renderOutput(dataTable, element);\n",
              "          const docLink = document.createElement('div');\n",
              "          docLink.innerHTML = docLinkHtml;\n",
              "          element.appendChild(docLink);\n",
              "        }\n",
              "      </script>\n",
              "    </div>\n",
              "  </div>\n",
              "  "
            ]
          },
          "metadata": {},
          "execution_count": 146
        }
      ]
    },
    {
      "cell_type": "code",
      "source": [
        "df.info()"
      ],
      "metadata": {
        "colab": {
          "base_uri": "https://localhost:8080/"
        },
        "id": "m3ii8pUjLR4H",
        "outputId": "1302e0fa-b569-4482-9d6c-c1e991455d71"
      },
      "execution_count": 147,
      "outputs": [
        {
          "output_type": "stream",
          "name": "stdout",
          "text": [
            "<class 'pandas.core.frame.DataFrame'>\n",
            "RangeIndex: 1243 entries, 0 to 1242\n",
            "Data columns (total 7 columns):\n",
            " #   Column    Non-Null Count  Dtype  \n",
            "---  ------    --------------  -----  \n",
            " 0   Date      1243 non-null   object \n",
            " 1   Price     1243 non-null   float64\n",
            " 2   Open      1243 non-null   float64\n",
            " 3   High      1243 non-null   float64\n",
            " 4   Low       1243 non-null   float64\n",
            " 5   Vol.      1243 non-null   float64\n",
            " 6   Change %  1243 non-null   float64\n",
            "dtypes: float64(6), object(1)\n",
            "memory usage: 68.1+ KB\n"
          ]
        }
      ]
    },
    {
      "cell_type": "code",
      "source": [
        "df.describe()"
      ],
      "metadata": {
        "colab": {
          "base_uri": "https://localhost:8080/",
          "height": 300
        },
        "id": "OU3m4JZ3LR1_",
        "outputId": "b14a94ca-b043-44ef-9d2d-f723e6ddeb6b"
      },
      "execution_count": 148,
      "outputs": [
        {
          "output_type": "execute_result",
          "data": {
            "text/plain": [
              "              Price          Open          High           Low          Vol.  \\\n",
              "count   1243.000000   1243.000000   1243.000000   1243.000000  1.243000e+03   \n",
              "mean   14699.721641  14689.380290  14997.256557  14388.769429  8.723458e+06   \n",
              "std     8437.740722   8457.337346   8657.608695   8259.927480  1.039326e+07   \n",
              "min     2578.000000   2529.800000   2602.100000   2517.700000  5.055000e+04   \n",
              "25%     8209.500000   8194.700000   8224.300000   8061.050000  9.467050e+05   \n",
              "50%    15521.000000  15567.600000  15782.900000  15194.700000  2.790000e+06   \n",
              "75%    20397.250000  20395.750000  20813.300000  19996.250000  1.494000e+07   \n",
              "max    34784.300000  35078.200000  36254.000000  34294.400000  6.549000e+07   \n",
              "\n",
              "          Change %  \n",
              "count  1243.000000  \n",
              "mean      0.000660  \n",
              "std       0.036199  \n",
              "min      -0.590000  \n",
              "25%      -0.010000  \n",
              "50%       0.000000  \n",
              "75%       0.020000  \n",
              "max       0.100000  "
            ],
            "text/html": [
              "\n",
              "  <div id=\"df-ef36a6cc-6b5a-42bd-85bf-01a6b25980d0\">\n",
              "    <div class=\"colab-df-container\">\n",
              "      <div>\n",
              "<style scoped>\n",
              "    .dataframe tbody tr th:only-of-type {\n",
              "        vertical-align: middle;\n",
              "    }\n",
              "\n",
              "    .dataframe tbody tr th {\n",
              "        vertical-align: top;\n",
              "    }\n",
              "\n",
              "    .dataframe thead th {\n",
              "        text-align: right;\n",
              "    }\n",
              "</style>\n",
              "<table border=\"1\" class=\"dataframe\">\n",
              "  <thead>\n",
              "    <tr style=\"text-align: right;\">\n",
              "      <th></th>\n",
              "      <th>Price</th>\n",
              "      <th>Open</th>\n",
              "      <th>High</th>\n",
              "      <th>Low</th>\n",
              "      <th>Vol.</th>\n",
              "      <th>Change %</th>\n",
              "    </tr>\n",
              "  </thead>\n",
              "  <tbody>\n",
              "    <tr>\n",
              "      <th>count</th>\n",
              "      <td>1243.000000</td>\n",
              "      <td>1243.000000</td>\n",
              "      <td>1243.000000</td>\n",
              "      <td>1243.000000</td>\n",
              "      <td>1.243000e+03</td>\n",
              "      <td>1243.000000</td>\n",
              "    </tr>\n",
              "    <tr>\n",
              "      <th>mean</th>\n",
              "      <td>14699.721641</td>\n",
              "      <td>14689.380290</td>\n",
              "      <td>14997.256557</td>\n",
              "      <td>14388.769429</td>\n",
              "      <td>8.723458e+06</td>\n",
              "      <td>0.000660</td>\n",
              "    </tr>\n",
              "    <tr>\n",
              "      <th>std</th>\n",
              "      <td>8437.740722</td>\n",
              "      <td>8457.337346</td>\n",
              "      <td>8657.608695</td>\n",
              "      <td>8259.927480</td>\n",
              "      <td>1.039326e+07</td>\n",
              "      <td>0.036199</td>\n",
              "    </tr>\n",
              "    <tr>\n",
              "      <th>min</th>\n",
              "      <td>2578.000000</td>\n",
              "      <td>2529.800000</td>\n",
              "      <td>2602.100000</td>\n",
              "      <td>2517.700000</td>\n",
              "      <td>5.055000e+04</td>\n",
              "      <td>-0.590000</td>\n",
              "    </tr>\n",
              "    <tr>\n",
              "      <th>25%</th>\n",
              "      <td>8209.500000</td>\n",
              "      <td>8194.700000</td>\n",
              "      <td>8224.300000</td>\n",
              "      <td>8061.050000</td>\n",
              "      <td>9.467050e+05</td>\n",
              "      <td>-0.010000</td>\n",
              "    </tr>\n",
              "    <tr>\n",
              "      <th>50%</th>\n",
              "      <td>15521.000000</td>\n",
              "      <td>15567.600000</td>\n",
              "      <td>15782.900000</td>\n",
              "      <td>15194.700000</td>\n",
              "      <td>2.790000e+06</td>\n",
              "      <td>0.000000</td>\n",
              "    </tr>\n",
              "    <tr>\n",
              "      <th>75%</th>\n",
              "      <td>20397.250000</td>\n",
              "      <td>20395.750000</td>\n",
              "      <td>20813.300000</td>\n",
              "      <td>19996.250000</td>\n",
              "      <td>1.494000e+07</td>\n",
              "      <td>0.020000</td>\n",
              "    </tr>\n",
              "    <tr>\n",
              "      <th>max</th>\n",
              "      <td>34784.300000</td>\n",
              "      <td>35078.200000</td>\n",
              "      <td>36254.000000</td>\n",
              "      <td>34294.400000</td>\n",
              "      <td>6.549000e+07</td>\n",
              "      <td>0.100000</td>\n",
              "    </tr>\n",
              "  </tbody>\n",
              "</table>\n",
              "</div>\n",
              "      <button class=\"colab-df-convert\" onclick=\"convertToInteractive('df-ef36a6cc-6b5a-42bd-85bf-01a6b25980d0')\"\n",
              "              title=\"Convert this dataframe to an interactive table.\"\n",
              "              style=\"display:none;\">\n",
              "        \n",
              "  <svg xmlns=\"http://www.w3.org/2000/svg\" height=\"24px\"viewBox=\"0 0 24 24\"\n",
              "       width=\"24px\">\n",
              "    <path d=\"M0 0h24v24H0V0z\" fill=\"none\"/>\n",
              "    <path d=\"M18.56 5.44l.94 2.06.94-2.06 2.06-.94-2.06-.94-.94-2.06-.94 2.06-2.06.94zm-11 1L8.5 8.5l.94-2.06 2.06-.94-2.06-.94L8.5 2.5l-.94 2.06-2.06.94zm10 10l.94 2.06.94-2.06 2.06-.94-2.06-.94-.94-2.06-.94 2.06-2.06.94z\"/><path d=\"M17.41 7.96l-1.37-1.37c-.4-.4-.92-.59-1.43-.59-.52 0-1.04.2-1.43.59L10.3 9.45l-7.72 7.72c-.78.78-.78 2.05 0 2.83L4 21.41c.39.39.9.59 1.41.59.51 0 1.02-.2 1.41-.59l7.78-7.78 2.81-2.81c.8-.78.8-2.07 0-2.86zM5.41 20L4 18.59l7.72-7.72 1.47 1.35L5.41 20z\"/>\n",
              "  </svg>\n",
              "      </button>\n",
              "      \n",
              "  <style>\n",
              "    .colab-df-container {\n",
              "      display:flex;\n",
              "      flex-wrap:wrap;\n",
              "      gap: 12px;\n",
              "    }\n",
              "\n",
              "    .colab-df-convert {\n",
              "      background-color: #E8F0FE;\n",
              "      border: none;\n",
              "      border-radius: 50%;\n",
              "      cursor: pointer;\n",
              "      display: none;\n",
              "      fill: #1967D2;\n",
              "      height: 32px;\n",
              "      padding: 0 0 0 0;\n",
              "      width: 32px;\n",
              "    }\n",
              "\n",
              "    .colab-df-convert:hover {\n",
              "      background-color: #E2EBFA;\n",
              "      box-shadow: 0px 1px 2px rgba(60, 64, 67, 0.3), 0px 1px 3px 1px rgba(60, 64, 67, 0.15);\n",
              "      fill: #174EA6;\n",
              "    }\n",
              "\n",
              "    [theme=dark] .colab-df-convert {\n",
              "      background-color: #3B4455;\n",
              "      fill: #D2E3FC;\n",
              "    }\n",
              "\n",
              "    [theme=dark] .colab-df-convert:hover {\n",
              "      background-color: #434B5C;\n",
              "      box-shadow: 0px 1px 3px 1px rgba(0, 0, 0, 0.15);\n",
              "      filter: drop-shadow(0px 1px 2px rgba(0, 0, 0, 0.3));\n",
              "      fill: #FFFFFF;\n",
              "    }\n",
              "  </style>\n",
              "\n",
              "      <script>\n",
              "        const buttonEl =\n",
              "          document.querySelector('#df-ef36a6cc-6b5a-42bd-85bf-01a6b25980d0 button.colab-df-convert');\n",
              "        buttonEl.style.display =\n",
              "          google.colab.kernel.accessAllowed ? 'block' : 'none';\n",
              "\n",
              "        async function convertToInteractive(key) {\n",
              "          const element = document.querySelector('#df-ef36a6cc-6b5a-42bd-85bf-01a6b25980d0');\n",
              "          const dataTable =\n",
              "            await google.colab.kernel.invokeFunction('convertToInteractive',\n",
              "                                                     [key], {});\n",
              "          if (!dataTable) return;\n",
              "\n",
              "          const docLinkHtml = 'Like what you see? Visit the ' +\n",
              "            '<a target=\"_blank\" href=https://colab.research.google.com/notebooks/data_table.ipynb>data table notebook</a>'\n",
              "            + ' to learn more about interactive tables.';\n",
              "          element.innerHTML = '';\n",
              "          dataTable['output_type'] = 'display_data';\n",
              "          await google.colab.output.renderOutput(dataTable, element);\n",
              "          const docLink = document.createElement('div');\n",
              "          docLink.innerHTML = docLinkHtml;\n",
              "          element.appendChild(docLink);\n",
              "        }\n",
              "      </script>\n",
              "    </div>\n",
              "  </div>\n",
              "  "
            ]
          },
          "metadata": {},
          "execution_count": 148
        }
      ]
    },
    {
      "cell_type": "code",
      "source": [
        "plt.figure(figsize=(20,12))\n",
        "plt.subplot(2, 1, 1)\n",
        "plt.title('Stock Price')\n",
        "plt.plot(df.Price,label='Close price')\n",
        "plt.legend()\n"
      ],
      "metadata": {
        "colab": {
          "base_uri": "https://localhost:8080/",
          "height": 272
        },
        "id": "ovBkLiFye1Gy",
        "outputId": "c8690dde-07e1-47d8-d1d0-7b117c1d5b45"
      },
      "execution_count": 149,
      "outputs": [
        {
          "output_type": "execute_result",
          "data": {
            "text/plain": [
              "<matplotlib.legend.Legend at 0x7ff8f2247f70>"
            ]
          },
          "metadata": {},
          "execution_count": 149
        },
        {
          "output_type": "display_data",
          "data": {
            "text/plain": [
              "<Figure size 1440x864 with 1 Axes>"
            ],
            "image/png": "[encoded data removed]"
          },
          "metadata": {
            "needs_background": "light"
          }
        }
      ]
    },
    {
      "cell_type": "code",
      "source": [
        "stepwise_fit = auto_arima(df['Price'], trace = True, suppress_warnings = True)\n",
        "stepwise_fit.summary()"
      ],
      "metadata": {
        "colab": {
          "base_uri": "https://localhost:8080/",
          "height": 704
        },
        "id": "U19XPx-jY50D",
        "outputId": "95a80e8b-5be9-4812-ed07-96e3ee914fba"
      },
      "execution_count": 150,
      "outputs": [
        {
          "output_type": "stream",
          "name": "stdout",
          "text": [
            "Performing stepwise search to minimize aic\n",
            " ARIMA(2,1,2)(0,0,0)[0] intercept   : AIC=19396.918, Time=2.56 sec\n",
            " ARIMA(0,1,0)(0,0,0)[0] intercept   : AIC=19398.521, Time=0.07 sec\n",
            " ARIMA(1,1,0)(0,0,0)[0] intercept   : AIC=19394.201, Time=0.11 sec\n",
            " ARIMA(0,1,1)(0,0,0)[0] intercept   : AIC=19393.857, Time=0.17 sec\n",
            " ARIMA(0,1,0)(0,0,0)[0]             : AIC=19396.549, Time=0.05 sec\n",
            " ARIMA(1,1,1)(0,0,0)[0] intercept   : AIC=19395.180, Time=0.64 sec\n",
            " ARIMA(0,1,2)(0,0,0)[0] intercept   : AIC=19395.164, Time=0.39 sec\n",
            " ARIMA(1,1,2)(0,0,0)[0] intercept   : AIC=19397.118, Time=1.00 sec\n",
            " ARIMA(0,1,1)(0,0,0)[0]             : AIC=19391.886, Time=0.09 sec\n",
            " ARIMA(1,1,1)(0,0,0)[0]             : AIC=19393.206, Time=0.23 sec\n",
            " ARIMA(0,1,2)(0,0,0)[0]             : AIC=19393.186, Time=0.11 sec\n",
            " ARIMA(1,1,0)(0,0,0)[0]             : AIC=19392.231, Time=0.08 sec\n",
            " ARIMA(1,1,2)(0,0,0)[0]             : AIC=19395.137, Time=0.48 sec\n",
            "\n",
            "Best model:  ARIMA(0,1,1)(0,0,0)[0]          \n",
            "Total fit time: 6.021 seconds\n"
          ]
        },
        {
          "output_type": "execute_result",
          "data": {
            "text/plain": [
              "<class 'statsmodels.iolib.summary.Summary'>\n",
              "\"\"\"\n",
              "                               SARIMAX Results                                \n",
              "==============================================================================\n",
              "Dep. Variable:                      y   No. Observations:                 1243\n",
              "Model:               SARIMAX(0, 1, 1)   Log Likelihood               -9693.943\n",
              "Date:                Wed, 04 Jan 2023   AIC                          19391.886\n",
              "Time:                        19:19:38   BIC                          19402.135\n",
              "Sample:                             0   HQIC                         19395.740\n",
              "                               - 1243                                         \n",
              "Covariance Type:                  opg                                         \n",
              "==============================================================================\n",
              "                 coef    std err          z      P>|z|      [0.025      0.975]\n",
              "------------------------------------------------------------------------------\n",
              "ma.L1          0.0737      0.019      3.873      0.000       0.036       0.111\n",
              "sigma2      3.529e+05   5172.208     68.227      0.000    3.43e+05    3.63e+05\n",
              "===================================================================================\n",
              "Ljung-Box (L1) (Q):                   0.02   Jarque-Bera (JB):              9100.08\n",
              "Prob(Q):                              0.90   Prob(JB):                         0.00\n",
              "Heteroskedasticity (H):               1.48   Skew:                            -1.25\n",
              "Prob(H) (two-sided):                  0.00   Kurtosis:                        16.02\n",
              "===================================================================================\n",
              "\n",
              "Warnings:\n",
              "[1] Covariance matrix calculated using the outer product of gradients (complex-step).\n",
              "\"\"\""
            ],
            "text/html": [
              "<table class=\"simpletable\">\n",
              "<caption>SARIMAX Results</caption>\n",
              "<tr>\n",
              "  <th>Dep. Variable:</th>           <td>y</td>        <th>  No. Observations:  </th>   <td>1243</td>   \n",
              "</tr>\n",
              "<tr>\n",
              "  <th>Model:</th>           <td>SARIMAX(0, 1, 1)</td> <th>  Log Likelihood     </th> <td>-9693.943</td>\n",
              "</tr>\n",
              "<tr>\n",
              "  <th>Date:</th>            <td>Wed, 04 Jan 2023</td> <th>  AIC                </th> <td>19391.886</td>\n",
              "</tr>\n",
              "<tr>\n",
              "  <th>Time:</th>                <td>19:19:38</td>     <th>  BIC                </th> <td>19402.135</td>\n",
              "</tr>\n",
              "<tr>\n",
              "  <th>Sample:</th>                  <td>0</td>        <th>  HQIC               </th> <td>19395.740</td>\n",
              "</tr>\n",
              "<tr>\n",
              "  <th></th>                      <td> - 1243</td>     <th>                     </th>     <td> </td>    \n",
              "</tr>\n",
              "<tr>\n",
              "  <th>Covariance Type:</th>        <td>opg</td>       <th>                     </th>     <td> </td>    \n",
              "</tr>\n",
              "</table>\n",
              "<table class=\"simpletable\">\n",
              "<tr>\n",
              "     <td></td>       <th>coef</th>     <th>std err</th>      <th>z</th>      <th>P>|z|</th>  <th>[0.025</th>    <th>0.975]</th>  \n",
              "</tr>\n",
              "<tr>\n",
              "  <th>ma.L1</th>  <td>    0.0737</td> <td>    0.019</td> <td>    3.873</td> <td> 0.000</td> <td>    0.036</td> <td>    0.111</td>\n",
              "</tr>\n",
              "<tr>\n",
              "  <th>sigma2</th> <td> 3.529e+05</td> <td> 5172.208</td> <td>   68.227</td> <td> 0.000</td> <td> 3.43e+05</td> <td> 3.63e+05</td>\n",
              "</tr>\n",
              "</table>\n",
              "<table class=\"simpletable\">\n",
              "<tr>\n",
              "  <th>Ljung-Box (L1) (Q):</th>     <td>0.02</td> <th>  Jarque-Bera (JB):  </th> <td>9100.08</td>\n",
              "</tr>\n",
              "<tr>\n",
              "  <th>Prob(Q):</th>                <td>0.90</td> <th>  Prob(JB):          </th>  <td>0.00</td>  \n",
              "</tr>\n",
              "<tr>\n",
              "  <th>Heteroskedasticity (H):</th> <td>1.48</td> <th>  Skew:              </th>  <td>-1.25</td> \n",
              "</tr>\n",
              "<tr>\n",
              "  <th>Prob(H) (two-sided):</th>    <td>0.00</td> <th>  Kurtosis:          </th>  <td>16.02</td> \n",
              "</tr>\n",
              "</table><br/><br/>Warnings:<br/>[1] Covariance matrix calculated using the outer product of gradients (complex-step)."
            ]
          },
          "metadata": {},
          "execution_count": 150
        }
      ]
    },
    {
      "cell_type": "code",
      "source": [
        "def split_data(data, test_split):\n",
        "    length = len(data)\n",
        "    size = round(length * (1 - test_split))\n",
        "    train, test = data[:size], data[size:]\n",
        "    print('train:', len(train))\n",
        "    print('test:', len(test))\n",
        "    return train, test"
      ],
      "metadata": {
        "id": "8ktkxz5KkPzP"
      },
      "execution_count": 151,
      "outputs": []
    },
    {
      "cell_type": "code",
      "source": [
        "test_split = 0.3\n",
        "train, test = split_data(df, test_split)"
      ],
      "metadata": {
        "colab": {
          "base_uri": "https://localhost:8080/"
        },
        "id": "Op4uwQFuZECz",
        "outputId": "7c17a5a1-07dd-4180-c511-8f600e8ba46c"
      },
      "execution_count": 152,
      "outputs": [
        {
          "output_type": "stream",
          "name": "stdout",
          "text": [
            "train: 870\n",
            "test: 373\n"
          ]
        }
      ]
    },
    {
      "cell_type": "code",
      "source": [
        "import warnings\n",
        "warnings.filterwarnings(\"ignore\")"
      ],
      "metadata": {
        "id": "hBto9HHlZGXV"
      },
      "execution_count": 153,
      "outputs": []
    },
    {
      "cell_type": "code",
      "source": [
        "model = sm.tsa.arima.ARIMA(train['Price'], order = (4,1,0))\n",
        "model = model.fit()\n",
        "model.summary()"
      ],
      "metadata": {
        "id": "CqR2oqbt1Z5Y",
        "colab": {
          "base_uri": "https://localhost:8080/",
          "height": 473
        },
        "outputId": "577fdfbc-d83c-42a9-db2f-8b35769ff2de"
      },
      "execution_count": 154,
      "outputs": [
        {
          "output_type": "execute_result",
          "data": {
            "text/plain": [
              "<class 'statsmodels.iolib.summary.Summary'>\n",
              "\"\"\"\n",
              "                               SARIMAX Results                                \n",
              "==============================================================================\n",
              "Dep. Variable:                  Price   No. Observations:                  870\n",
              "Model:                 ARIMA(4, 1, 0)   Log Likelihood               -6600.652\n",
              "Date:                Wed, 04 Jan 2023   AIC                          13211.303\n",
              "Time:                        19:19:38   BIC                          13235.140\n",
              "Sample:                             0   HQIC                         13220.424\n",
              "                                - 870                                         \n",
              "Covariance Type:                  opg                                         \n",
              "==============================================================================\n",
              "                 coef    std err          z      P>|z|      [0.025      0.975]\n",
              "------------------------------------------------------------------------------\n",
              "ar.L1          0.0406      0.022      1.866      0.062      -0.002       0.083\n",
              "ar.L2          0.0020      0.023      0.087      0.930      -0.043       0.047\n",
              "ar.L3          0.0152      0.026      0.597      0.551      -0.035       0.065\n",
              "ar.L4          0.0341      0.025      1.355      0.175      -0.015       0.083\n",
              "sigma2      2.317e+05   2475.714     93.596      0.000    2.27e+05    2.37e+05\n",
              "===================================================================================\n",
              "Ljung-Box (L1) (Q):                   0.01   Jarque-Bera (JB):             57870.33\n",
              "Prob(Q):                              0.91   Prob(JB):                         0.00\n",
              "Heteroskedasticity (H):               0.10   Skew:                            -3.41\n",
              "Prob(H) (two-sided):                  0.00   Kurtosis:                        42.39\n",
              "===================================================================================\n",
              "\n",
              "Warnings:\n",
              "[1] Covariance matrix calculated using the outer product of gradients (complex-step).\n",
              "\"\"\""
            ],
            "text/html": [
              "<table class=\"simpletable\">\n",
              "<caption>SARIMAX Results</caption>\n",
              "<tr>\n",
              "  <th>Dep. Variable:</th>         <td>Price</td>      <th>  No. Observations:  </th>    <td>870</td>   \n",
              "</tr>\n",
              "<tr>\n",
              "  <th>Model:</th>            <td>ARIMA(4, 1, 0)</td>  <th>  Log Likelihood     </th> <td>-6600.652</td>\n",
              "</tr>\n",
              "<tr>\n",
              "  <th>Date:</th>            <td>Wed, 04 Jan 2023</td> <th>  AIC                </th> <td>13211.303</td>\n",
              "</tr>\n",
              "<tr>\n",
              "  <th>Time:</th>                <td>19:19:38</td>     <th>  BIC                </th> <td>13235.140</td>\n",
              "</tr>\n",
              "<tr>\n",
              "  <th>Sample:</th>                  <td>0</td>        <th>  HQIC               </th> <td>13220.424</td>\n",
              "</tr>\n",
              "<tr>\n",
              "  <th></th>                      <td> - 870</td>      <th>                     </th>     <td> </td>    \n",
              "</tr>\n",
              "<tr>\n",
              "  <th>Covariance Type:</th>        <td>opg</td>       <th>                     </th>     <td> </td>    \n",
              "</tr>\n",
              "</table>\n",
              "<table class=\"simpletable\">\n",
              "<tr>\n",
              "     <td></td>       <th>coef</th>     <th>std err</th>      <th>z</th>      <th>P>|z|</th>  <th>[0.025</th>    <th>0.975]</th>  \n",
              "</tr>\n",
              "<tr>\n",
              "  <th>ar.L1</th>  <td>    0.0406</td> <td>    0.022</td> <td>    1.866</td> <td> 0.062</td> <td>   -0.002</td> <td>    0.083</td>\n",
              "</tr>\n",
              "<tr>\n",
              "  <th>ar.L2</th>  <td>    0.0020</td> <td>    0.023</td> <td>    0.087</td> <td> 0.930</td> <td>   -0.043</td> <td>    0.047</td>\n",
              "</tr>\n",
              "<tr>\n",
              "  <th>ar.L3</th>  <td>    0.0152</td> <td>    0.026</td> <td>    0.597</td> <td> 0.551</td> <td>   -0.035</td> <td>    0.065</td>\n",
              "</tr>\n",
              "<tr>\n",
              "  <th>ar.L4</th>  <td>    0.0341</td> <td>    0.025</td> <td>    1.355</td> <td> 0.175</td> <td>   -0.015</td> <td>    0.083</td>\n",
              "</tr>\n",
              "<tr>\n",
              "  <th>sigma2</th> <td> 2.317e+05</td> <td> 2475.714</td> <td>   93.596</td> <td> 0.000</td> <td> 2.27e+05</td> <td> 2.37e+05</td>\n",
              "</tr>\n",
              "</table>\n",
              "<table class=\"simpletable\">\n",
              "<tr>\n",
              "  <th>Ljung-Box (L1) (Q):</th>     <td>0.01</td> <th>  Jarque-Bera (JB):  </th> <td>57870.33</td>\n",
              "</tr>\n",
              "<tr>\n",
              "  <th>Prob(Q):</th>                <td>0.91</td> <th>  Prob(JB):          </th>   <td>0.00</td>  \n",
              "</tr>\n",
              "<tr>\n",
              "  <th>Heteroskedasticity (H):</th> <td>0.10</td> <th>  Skew:              </th>   <td>-3.41</td> \n",
              "</tr>\n",
              "<tr>\n",
              "  <th>Prob(H) (two-sided):</th>    <td>0.00</td> <th>  Kurtosis:          </th>   <td>42.39</td> \n",
              "</tr>\n",
              "</table><br/><br/>Warnings:<br/>[1] Covariance matrix calculated using the outer product of gradients (complex-step)."
            ]
          },
          "metadata": {},
          "execution_count": 154
        }
      ]
    },
    {
      "cell_type": "code",
      "source": [
        "start = len(train)\n",
        "end = len(train) + len(test) -1\n",
        "pred = model.predict(start = start, end = end, typ = 'levels')\n",
        "\n",
        "print(pred)\n",
        "pred.index = df.index[start: end + 1]"
      ],
      "metadata": {
        "colab": {
          "base_uri": "https://localhost:8080/"
        },
        "id": "BleB9ugKkPtF",
        "outputId": "f8dbd444-a025-4677-a5f9-e3b7b2dc4f36"
      },
      "execution_count": 155,
      "outputs": [
        {
          "output_type": "stream",
          "name": "stdout",
          "text": [
            "870     15050.558982\n",
            "871     15114.279280\n",
            "872     15160.503636\n",
            "873     15156.058275\n",
            "874     15157.691437\n",
            "            ...     \n",
            "1238    15162.505298\n",
            "1239    15162.505298\n",
            "1240    15162.505298\n",
            "1241    15162.505298\n",
            "1242    15162.505298\n",
            "Name: predicted_mean, Length: 373, dtype: float64\n"
          ]
        }
      ]
    },
    {
      "cell_type": "code",
      "source": [
        "plt.figure(figsize = (12,5))\n",
        "pred.plot(legend = True)\n",
        "test['Price'].plot(legend= True)"
      ],
      "metadata": {
        "id": "DJMyJI4ikh_R",
        "colab": {
          "base_uri": "https://localhost:8080/",
          "height": 337
        },
        "outputId": "ef0d9427-11a8-4c17-db92-c5390117ba72"
      },
      "execution_count": 156,
      "outputs": [
        {
          "output_type": "execute_result",
          "data": {
            "text/plain": [
              "<matplotlib.axes._subplots.AxesSubplot at 0x7ff8f21b0100>"
            ]
          },
          "metadata": {},
          "execution_count": 156
        },
        {
          "output_type": "display_data",
          "data": {
            "text/plain": [
              "<Figure size 864x360 with 1 Axes>"
            ],
            "image/png": "[encoded data removed]"
          },
          "metadata": {
            "needs_background": "light"
          }
        }
      ]
    },
    {
      "cell_type": "code",
      "source": [
        "# using autoarima to get best predictions\n",
        "step= auto_arima(df.Price, trace=True)\n",
        "step.summary()"
      ],
      "metadata": {
        "colab": {
          "base_uri": "https://localhost:8080/",
          "height": 704
        },
        "id": "d8kNR0PaFhy8",
        "outputId": "69339966-dee9-4ae4-c4d9-c172555bf288"
      },
      "execution_count": 157,
      "outputs": [
        {
          "output_type": "stream",
          "name": "stdout",
          "text": [
            "Performing stepwise search to minimize aic\n",
            " ARIMA(2,1,2)(0,0,0)[0] intercept   : AIC=19396.918, Time=2.16 sec\n",
            " ARIMA(0,1,0)(0,0,0)[0] intercept   : AIC=19398.521, Time=0.11 sec\n",
            " ARIMA(1,1,0)(0,0,0)[0] intercept   : AIC=19394.201, Time=0.14 sec\n",
            " ARIMA(0,1,1)(0,0,0)[0] intercept   : AIC=19393.857, Time=0.17 sec\n",
            " ARIMA(0,1,0)(0,0,0)[0]             : AIC=19396.549, Time=0.04 sec\n",
            " ARIMA(1,1,1)(0,0,0)[0] intercept   : AIC=19395.180, Time=0.42 sec\n",
            " ARIMA(0,1,2)(0,0,0)[0] intercept   : AIC=19395.164, Time=0.19 sec\n",
            " ARIMA(1,1,2)(0,0,0)[0] intercept   : AIC=19397.118, Time=0.88 sec\n",
            " ARIMA(0,1,1)(0,0,0)[0]             : AIC=19391.886, Time=0.10 sec\n",
            " ARIMA(1,1,1)(0,0,0)[0]             : AIC=19393.206, Time=0.19 sec\n",
            " ARIMA(0,1,2)(0,0,0)[0]             : AIC=19393.186, Time=0.09 sec\n",
            " ARIMA(1,1,0)(0,0,0)[0]             : AIC=19392.231, Time=0.07 sec\n",
            " ARIMA(1,1,2)(0,0,0)[0]             : AIC=19395.137, Time=0.61 sec\n",
            "\n",
            "Best model:  ARIMA(0,1,1)(0,0,0)[0]          \n",
            "Total fit time: 5.234 seconds\n"
          ]
        },
        {
          "output_type": "execute_result",
          "data": {
            "text/plain": [
              "<class 'statsmodels.iolib.summary.Summary'>\n",
              "\"\"\"\n",
              "                               SARIMAX Results                                \n",
              "==============================================================================\n",
              "Dep. Variable:                      y   No. Observations:                 1243\n",
              "Model:               SARIMAX(0, 1, 1)   Log Likelihood               -9693.943\n",
              "Date:                Wed, 04 Jan 2023   AIC                          19391.886\n",
              "Time:                        19:19:44   BIC                          19402.135\n",
              "Sample:                             0   HQIC                         19395.740\n",
              "                               - 1243                                         \n",
              "Covariance Type:                  opg                                         \n",
              "==============================================================================\n",
              "                 coef    std err          z      P>|z|      [0.025      0.975]\n",
              "------------------------------------------------------------------------------\n",
              "ma.L1          0.0737      0.019      3.873      0.000       0.036       0.111\n",
              "sigma2      3.529e+05   5172.208     68.227      0.000    3.43e+05    3.63e+05\n",
              "===================================================================================\n",
              "Ljung-Box (L1) (Q):                   0.02   Jarque-Bera (JB):              9100.08\n",
              "Prob(Q):                              0.90   Prob(JB):                         0.00\n",
              "Heteroskedasticity (H):               1.48   Skew:                            -1.25\n",
              "Prob(H) (two-sided):                  0.00   Kurtosis:                        16.02\n",
              "===================================================================================\n",
              "\n",
              "Warnings:\n",
              "[1] Covariance matrix calculated using the outer product of gradients (complex-step).\n",
              "\"\"\""
            ],
            "text/html": [
              "<table class=\"simpletable\">\n",
              "<caption>SARIMAX Results</caption>\n",
              "<tr>\n",
              "  <th>Dep. Variable:</th>           <td>y</td>        <th>  No. Observations:  </th>   <td>1243</td>   \n",
              "</tr>\n",
              "<tr>\n",
              "  <th>Model:</th>           <td>SARIMAX(0, 1, 1)</td> <th>  Log Likelihood     </th> <td>-9693.943</td>\n",
              "</tr>\n",
              "<tr>\n",
              "  <th>Date:</th>            <td>Wed, 04 Jan 2023</td> <th>  AIC                </th> <td>19391.886</td>\n",
              "</tr>\n",
              "<tr>\n",
              "  <th>Time:</th>                <td>19:19:44</td>     <th>  BIC                </th> <td>19402.135</td>\n",
              "</tr>\n",
              "<tr>\n",
              "  <th>Sample:</th>                  <td>0</td>        <th>  HQIC               </th> <td>19395.740</td>\n",
              "</tr>\n",
              "<tr>\n",
              "  <th></th>                      <td> - 1243</td>     <th>                     </th>     <td> </td>    \n",
              "</tr>\n",
              "<tr>\n",
              "  <th>Covariance Type:</th>        <td>opg</td>       <th>                     </th>     <td> </td>    \n",
              "</tr>\n",
              "</table>\n",
              "<table class=\"simpletable\">\n",
              "<tr>\n",
              "     <td></td>       <th>coef</th>     <th>std err</th>      <th>z</th>      <th>P>|z|</th>  <th>[0.025</th>    <th>0.975]</th>  \n",
              "</tr>\n",
              "<tr>\n",
              "  <th>ma.L1</th>  <td>    0.0737</td> <td>    0.019</td> <td>    3.873</td> <td> 0.000</td> <td>    0.036</td> <td>    0.111</td>\n",
              "</tr>\n",
              "<tr>\n",
              "  <th>sigma2</th> <td> 3.529e+05</td> <td> 5172.208</td> <td>   68.227</td> <td> 0.000</td> <td> 3.43e+05</td> <td> 3.63e+05</td>\n",
              "</tr>\n",
              "</table>\n",
              "<table class=\"simpletable\">\n",
              "<tr>\n",
              "  <th>Ljung-Box (L1) (Q):</th>     <td>0.02</td> <th>  Jarque-Bera (JB):  </th> <td>9100.08</td>\n",
              "</tr>\n",
              "<tr>\n",
              "  <th>Prob(Q):</th>                <td>0.90</td> <th>  Prob(JB):          </th>  <td>0.00</td>  \n",
              "</tr>\n",
              "<tr>\n",
              "  <th>Heteroskedasticity (H):</th> <td>1.48</td> <th>  Skew:              </th>  <td>-1.25</td> \n",
              "</tr>\n",
              "<tr>\n",
              "  <th>Prob(H) (two-sided):</th>    <td>0.00</td> <th>  Kurtosis:          </th>  <td>16.02</td> \n",
              "</tr>\n",
              "</table><br/><br/>Warnings:<br/>[1] Covariance matrix calculated using the outer product of gradients (complex-step)."
            ]
          },
          "metadata": {},
          "execution_count": 157
        }
      ]
    },
    {
      "cell_type": "code",
      "source": [
        "from sklearn.metrics import mean_squared_error\n",
        "from sklearn.metrics import mean_absolute_percentage_error\n",
        "\n",
        "mse =  mean_squared_error(pred, test['Price'])\n",
        "rmse = sqrt(mse)\n",
        "mape = mean_absolute_percentage_error(pred, test['Price'])\n",
        "print(\"RMSE: \", rmse)\n",
        "print(\"MAPE: \", mape * 100)"
      ],
      "metadata": {
        "colab": {
          "base_uri": "https://localhost:8080/"
        },
        "id": "jOoLAobNEXzb",
        "outputId": "f61aea41-70e8-4dee-f445-1ad151921962"
      },
      "execution_count": 158,
      "outputs": [
        {
          "output_type": "stream",
          "name": "stdout",
          "text": [
            "RMSE:  9678.633895284434\n",
            "MAPE:  52.646463995276285\n"
          ]
        }
      ]
    }
  ]
}