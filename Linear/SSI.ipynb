{
 "cells": [
  {
   "cell_type": "code",
   "execution_count": 1,
   "id": "84ecbce0-0877-412d-9bc1-c2396814b50a",
   "metadata": {},
   "outputs": [],
   "source": [
    "import numpy.polynomial.polynomial as poly\n",
    "from datetime import datetime\n",
    "import matplotlib.pyplot as plt\n",
    "import pandas as pd\n",
    "import numpy as np"
   ]
  },
  {
   "cell_type": "code",
   "execution_count": 2,
   "id": "a3277e58-50bb-4fdd-8d7f-97a6ad904570",
   "metadata": {},
   "outputs": [],
   "source": [
    "SSI=pd.read_csv(r\"E:\\2022-2023 hk1\\PTTK\\CK\\code\\1-12-2017 1-12-2022\\SSI Historical Data.csv\")"
   ]
  },
  {
   "cell_type": "code",
   "execution_count": 3,
   "id": "1514651e-b1cf-45e5-b2bc-c817181ade2c",
   "metadata": {},
   "outputs": [
    {
     "data": {
      "text/html": [
       "<div>\n",
       "<style scoped>\n",
       "    .dataframe tbody tr th:only-of-type {\n",
       "        vertical-align: middle;\n",
       "    }\n",
       "\n",
       "    .dataframe tbody tr th {\n",
       "        vertical-align: top;\n",
       "    }\n",
       "\n",
       "    .dataframe thead th {\n",
       "        text-align: right;\n",
       "    }\n",
       "</style>\n",
       "<table border=\"1\" class=\"dataframe\">\n",
       "  <thead>\n",
       "    <tr style=\"text-align: right;\">\n",
       "      <th></th>\n",
       "      <th>Date</th>\n",
       "      <th>Price</th>\n",
       "      <th>Open</th>\n",
       "      <th>High</th>\n",
       "      <th>Low</th>\n",
       "      <th>Vol.</th>\n",
       "      <th>Change %</th>\n",
       "    </tr>\n",
       "  </thead>\n",
       "  <tbody>\n",
       "    <tr>\n",
       "      <th>0</th>\n",
       "      <td>12/1/2017</td>\n",
       "      <td>13928.5</td>\n",
       "      <td>13625.2</td>\n",
       "      <td>14105.5</td>\n",
       "      <td>13574.6</td>\n",
       "      <td>10420000.0</td>\n",
       "      <td>0.02</td>\n",
       "    </tr>\n",
       "    <tr>\n",
       "      <th>1</th>\n",
       "      <td>12/4/2017</td>\n",
       "      <td>14712.2</td>\n",
       "      <td>14054.9</td>\n",
       "      <td>14813.3</td>\n",
       "      <td>13979.1</td>\n",
       "      <td>11520000.0</td>\n",
       "      <td>0.06</td>\n",
       "    </tr>\n",
       "    <tr>\n",
       "      <th>2</th>\n",
       "      <td>12/5/2017</td>\n",
       "      <td>14257.2</td>\n",
       "      <td>14661.6</td>\n",
       "      <td>14712.2</td>\n",
       "      <td>14156.1</td>\n",
       "      <td>11100000.0</td>\n",
       "      <td>-0.03</td>\n",
       "    </tr>\n",
       "    <tr>\n",
       "      <th>3</th>\n",
       "      <td>12/6/2017</td>\n",
       "      <td>14130.8</td>\n",
       "      <td>14206.6</td>\n",
       "      <td>14257.2</td>\n",
       "      <td>13625.2</td>\n",
       "      <td>14660000.0</td>\n",
       "      <td>-0.01</td>\n",
       "    </tr>\n",
       "    <tr>\n",
       "      <th>4</th>\n",
       "      <td>12/7/2017</td>\n",
       "      <td>13701.0</td>\n",
       "      <td>14130.8</td>\n",
       "      <td>14156.1</td>\n",
       "      <td>13599.9</td>\n",
       "      <td>8850000.0</td>\n",
       "      <td>-0.03</td>\n",
       "    </tr>\n",
       "    <tr>\n",
       "      <th>...</th>\n",
       "      <td>...</td>\n",
       "      <td>...</td>\n",
       "      <td>...</td>\n",
       "      <td>...</td>\n",
       "      <td>...</td>\n",
       "      <td>...</td>\n",
       "      <td>...</td>\n",
       "    </tr>\n",
       "    <tr>\n",
       "      <th>1244</th>\n",
       "      <td>11/25/2022</td>\n",
       "      <td>17100.0</td>\n",
       "      <td>16400.0</td>\n",
       "      <td>17100.0</td>\n",
       "      <td>16150.0</td>\n",
       "      <td>22570000.0</td>\n",
       "      <td>0.07</td>\n",
       "    </tr>\n",
       "    <tr>\n",
       "      <th>1245</th>\n",
       "      <td>11/28/2022</td>\n",
       "      <td>18250.0</td>\n",
       "      <td>17500.0</td>\n",
       "      <td>18250.0</td>\n",
       "      <td>17500.0</td>\n",
       "      <td>32640000.0</td>\n",
       "      <td>0.07</td>\n",
       "    </tr>\n",
       "    <tr>\n",
       "      <th>1246</th>\n",
       "      <td>11/29/2022</td>\n",
       "      <td>18950.0</td>\n",
       "      <td>18500.0</td>\n",
       "      <td>19150.0</td>\n",
       "      <td>18000.0</td>\n",
       "      <td>32280000.0</td>\n",
       "      <td>0.04</td>\n",
       "    </tr>\n",
       "    <tr>\n",
       "      <th>1247</th>\n",
       "      <td>11/30/2022</td>\n",
       "      <td>19250.0</td>\n",
       "      <td>18700.0</td>\n",
       "      <td>19400.0</td>\n",
       "      <td>18450.0</td>\n",
       "      <td>29650000.0</td>\n",
       "      <td>0.02</td>\n",
       "    </tr>\n",
       "    <tr>\n",
       "      <th>1248</th>\n",
       "      <td>12/1/2022</td>\n",
       "      <td>18200.0</td>\n",
       "      <td>19500.0</td>\n",
       "      <td>19650.0</td>\n",
       "      <td>18200.0</td>\n",
       "      <td>37110000.0</td>\n",
       "      <td>-0.05</td>\n",
       "    </tr>\n",
       "  </tbody>\n",
       "</table>\n",
       "<p>1249 rows × 7 columns</p>\n",
       "</div>"
      ],
      "text/plain": [
       "            Date    Price     Open     High      Low        Vol.  Change %\n",
       "0      12/1/2017  13928.5  13625.2  14105.5  13574.6  10420000.0      0.02\n",
       "1      12/4/2017  14712.2  14054.9  14813.3  13979.1  11520000.0      0.06\n",
       "2      12/5/2017  14257.2  14661.6  14712.2  14156.1  11100000.0     -0.03\n",
       "3      12/6/2017  14130.8  14206.6  14257.2  13625.2  14660000.0     -0.01\n",
       "4      12/7/2017  13701.0  14130.8  14156.1  13599.9   8850000.0     -0.03\n",
       "...          ...      ...      ...      ...      ...         ...       ...\n",
       "1244  11/25/2022  17100.0  16400.0  17100.0  16150.0  22570000.0      0.07\n",
       "1245  11/28/2022  18250.0  17500.0  18250.0  17500.0  32640000.0      0.07\n",
       "1246  11/29/2022  18950.0  18500.0  19150.0  18000.0  32280000.0      0.04\n",
       "1247  11/30/2022  19250.0  18700.0  19400.0  18450.0  29650000.0      0.02\n",
       "1248   12/1/2022  18200.0  19500.0  19650.0  18200.0  37110000.0     -0.05\n",
       "\n",
       "[1249 rows x 7 columns]"
      ]
     },
     "execution_count": 3,
     "metadata": {},
     "output_type": "execute_result"
    }
   ],
   "source": [
    "SSI"
   ]
  },
  {
   "cell_type": "code",
   "execution_count": 4,
   "id": "fea5eee0-10a9-4447-a1b0-8329441fd0d0",
   "metadata": {},
   "outputs": [],
   "source": [
    "SSI['Date_New'] = pd.to_datetime(SSI.Date)"
   ]
  },
  {
   "cell_type": "code",
   "execution_count": 5,
   "id": "729b2177-610e-4cac-8c2c-acab51ba0803",
   "metadata": {},
   "outputs": [
    {
     "data": {
      "text/plain": [
       "pandas.core.series.Series"
      ]
     },
     "execution_count": 5,
     "metadata": {},
     "output_type": "execute_result"
    }
   ],
   "source": [
    "type(SSI['Date_New'])"
   ]
  },
  {
   "cell_type": "code",
   "execution_count": 6,
   "id": "281febd6-e234-4dc8-9141-81c36dfdcdf8",
   "metadata": {},
   "outputs": [],
   "source": [
    "SSI.index = SSI['Date_New']"
   ]
  },
  {
   "cell_type": "code",
   "execution_count": 7,
   "id": "93f26bd5-4c36-45c5-81ec-83515a2ace07",
   "metadata": {},
   "outputs": [],
   "source": [
    "SSI['Time'] = np.arange(len(SSI.index))"
   ]
  },
  {
   "cell_type": "code",
   "execution_count": 8,
   "id": "7fc10b87-4cce-40d2-94b5-dc0f9a37e868",
   "metadata": {},
   "outputs": [
    {
     "data": {
      "text/html": [
       "<div>\n",
       "<style scoped>\n",
       "    .dataframe tbody tr th:only-of-type {\n",
       "        vertical-align: middle;\n",
       "    }\n",
       "\n",
       "    .dataframe tbody tr th {\n",
       "        vertical-align: top;\n",
       "    }\n",
       "\n",
       "    .dataframe thead th {\n",
       "        text-align: right;\n",
       "    }\n",
       "</style>\n",
       "<table border=\"1\" class=\"dataframe\">\n",
       "  <thead>\n",
       "    <tr style=\"text-align: right;\">\n",
       "      <th></th>\n",
       "      <th>Date</th>\n",
       "      <th>Price</th>\n",
       "      <th>Open</th>\n",
       "      <th>High</th>\n",
       "      <th>Low</th>\n",
       "      <th>Vol.</th>\n",
       "      <th>Change %</th>\n",
       "      <th>Date_New</th>\n",
       "      <th>Time</th>\n",
       "    </tr>\n",
       "    <tr>\n",
       "      <th>Date_New</th>\n",
       "      <th></th>\n",
       "      <th></th>\n",
       "      <th></th>\n",
       "      <th></th>\n",
       "      <th></th>\n",
       "      <th></th>\n",
       "      <th></th>\n",
       "      <th></th>\n",
       "      <th></th>\n",
       "    </tr>\n",
       "  </thead>\n",
       "  <tbody>\n",
       "    <tr>\n",
       "      <th>2017-12-01</th>\n",
       "      <td>12/1/2017</td>\n",
       "      <td>13928.5</td>\n",
       "      <td>13625.2</td>\n",
       "      <td>14105.5</td>\n",
       "      <td>13574.6</td>\n",
       "      <td>10420000.0</td>\n",
       "      <td>0.02</td>\n",
       "      <td>2017-12-01</td>\n",
       "      <td>0</td>\n",
       "    </tr>\n",
       "    <tr>\n",
       "      <th>2017-12-04</th>\n",
       "      <td>12/4/2017</td>\n",
       "      <td>14712.2</td>\n",
       "      <td>14054.9</td>\n",
       "      <td>14813.3</td>\n",
       "      <td>13979.1</td>\n",
       "      <td>11520000.0</td>\n",
       "      <td>0.06</td>\n",
       "      <td>2017-12-04</td>\n",
       "      <td>1</td>\n",
       "    </tr>\n",
       "    <tr>\n",
       "      <th>2017-12-05</th>\n",
       "      <td>12/5/2017</td>\n",
       "      <td>14257.2</td>\n",
       "      <td>14661.6</td>\n",
       "      <td>14712.2</td>\n",
       "      <td>14156.1</td>\n",
       "      <td>11100000.0</td>\n",
       "      <td>-0.03</td>\n",
       "      <td>2017-12-05</td>\n",
       "      <td>2</td>\n",
       "    </tr>\n",
       "    <tr>\n",
       "      <th>2017-12-06</th>\n",
       "      <td>12/6/2017</td>\n",
       "      <td>14130.8</td>\n",
       "      <td>14206.6</td>\n",
       "      <td>14257.2</td>\n",
       "      <td>13625.2</td>\n",
       "      <td>14660000.0</td>\n",
       "      <td>-0.01</td>\n",
       "      <td>2017-12-06</td>\n",
       "      <td>3</td>\n",
       "    </tr>\n",
       "    <tr>\n",
       "      <th>2017-12-07</th>\n",
       "      <td>12/7/2017</td>\n",
       "      <td>13701.0</td>\n",
       "      <td>14130.8</td>\n",
       "      <td>14156.1</td>\n",
       "      <td>13599.9</td>\n",
       "      <td>8850000.0</td>\n",
       "      <td>-0.03</td>\n",
       "      <td>2017-12-07</td>\n",
       "      <td>4</td>\n",
       "    </tr>\n",
       "    <tr>\n",
       "      <th>...</th>\n",
       "      <td>...</td>\n",
       "      <td>...</td>\n",
       "      <td>...</td>\n",
       "      <td>...</td>\n",
       "      <td>...</td>\n",
       "      <td>...</td>\n",
       "      <td>...</td>\n",
       "      <td>...</td>\n",
       "      <td>...</td>\n",
       "    </tr>\n",
       "    <tr>\n",
       "      <th>2022-11-25</th>\n",
       "      <td>11/25/2022</td>\n",
       "      <td>17100.0</td>\n",
       "      <td>16400.0</td>\n",
       "      <td>17100.0</td>\n",
       "      <td>16150.0</td>\n",
       "      <td>22570000.0</td>\n",
       "      <td>0.07</td>\n",
       "      <td>2022-11-25</td>\n",
       "      <td>1244</td>\n",
       "    </tr>\n",
       "    <tr>\n",
       "      <th>2022-11-28</th>\n",
       "      <td>11/28/2022</td>\n",
       "      <td>18250.0</td>\n",
       "      <td>17500.0</td>\n",
       "      <td>18250.0</td>\n",
       "      <td>17500.0</td>\n",
       "      <td>32640000.0</td>\n",
       "      <td>0.07</td>\n",
       "      <td>2022-11-28</td>\n",
       "      <td>1245</td>\n",
       "    </tr>\n",
       "    <tr>\n",
       "      <th>2022-11-29</th>\n",
       "      <td>11/29/2022</td>\n",
       "      <td>18950.0</td>\n",
       "      <td>18500.0</td>\n",
       "      <td>19150.0</td>\n",
       "      <td>18000.0</td>\n",
       "      <td>32280000.0</td>\n",
       "      <td>0.04</td>\n",
       "      <td>2022-11-29</td>\n",
       "      <td>1246</td>\n",
       "    </tr>\n",
       "    <tr>\n",
       "      <th>2022-11-30</th>\n",
       "      <td>11/30/2022</td>\n",
       "      <td>19250.0</td>\n",
       "      <td>18700.0</td>\n",
       "      <td>19400.0</td>\n",
       "      <td>18450.0</td>\n",
       "      <td>29650000.0</td>\n",
       "      <td>0.02</td>\n",
       "      <td>2022-11-30</td>\n",
       "      <td>1247</td>\n",
       "    </tr>\n",
       "    <tr>\n",
       "      <th>2022-12-01</th>\n",
       "      <td>12/1/2022</td>\n",
       "      <td>18200.0</td>\n",
       "      <td>19500.0</td>\n",
       "      <td>19650.0</td>\n",
       "      <td>18200.0</td>\n",
       "      <td>37110000.0</td>\n",
       "      <td>-0.05</td>\n",
       "      <td>2022-12-01</td>\n",
       "      <td>1248</td>\n",
       "    </tr>\n",
       "  </tbody>\n",
       "</table>\n",
       "<p>1249 rows × 9 columns</p>\n",
       "</div>"
      ],
      "text/plain": [
       "                  Date    Price     Open     High      Low        Vol.  \\\n",
       "Date_New                                                                 \n",
       "2017-12-01   12/1/2017  13928.5  13625.2  14105.5  13574.6  10420000.0   \n",
       "2017-12-04   12/4/2017  14712.2  14054.9  14813.3  13979.1  11520000.0   \n",
       "2017-12-05   12/5/2017  14257.2  14661.6  14712.2  14156.1  11100000.0   \n",
       "2017-12-06   12/6/2017  14130.8  14206.6  14257.2  13625.2  14660000.0   \n",
       "2017-12-07   12/7/2017  13701.0  14130.8  14156.1  13599.9   8850000.0   \n",
       "...                ...      ...      ...      ...      ...         ...   \n",
       "2022-11-25  11/25/2022  17100.0  16400.0  17100.0  16150.0  22570000.0   \n",
       "2022-11-28  11/28/2022  18250.0  17500.0  18250.0  17500.0  32640000.0   \n",
       "2022-11-29  11/29/2022  18950.0  18500.0  19150.0  18000.0  32280000.0   \n",
       "2022-11-30  11/30/2022  19250.0  18700.0  19400.0  18450.0  29650000.0   \n",
       "2022-12-01   12/1/2022  18200.0  19500.0  19650.0  18200.0  37110000.0   \n",
       "\n",
       "            Change %   Date_New  Time  \n",
       "Date_New                               \n",
       "2017-12-01      0.02 2017-12-01     0  \n",
       "2017-12-04      0.06 2017-12-04     1  \n",
       "2017-12-05     -0.03 2017-12-05     2  \n",
       "2017-12-06     -0.01 2017-12-06     3  \n",
       "2017-12-07     -0.03 2017-12-07     4  \n",
       "...              ...        ...   ...  \n",
       "2022-11-25      0.07 2022-11-25  1244  \n",
       "2022-11-28      0.07 2022-11-28  1245  \n",
       "2022-11-29      0.04 2022-11-29  1246  \n",
       "2022-11-30      0.02 2022-11-30  1247  \n",
       "2022-12-01     -0.05 2022-12-01  1248  \n",
       "\n",
       "[1249 rows x 9 columns]"
      ]
     },
     "execution_count": 8,
     "metadata": {},
     "output_type": "execute_result"
    }
   ],
   "source": [
    "SSI"
   ]
  },
  {
   "cell_type": "code",
   "execution_count": 9,
   "id": "4afb502c-2500-416f-8ada-c84df3ba1361",
   "metadata": {},
   "outputs": [
    {
     "data": {
      "text/plain": [
       "<AxesSubplot:xlabel='Date_New'>"
      ]
     },
     "execution_count": 9,
     "metadata": {},
     "output_type": "execute_result"
    },
    {
     "data": {
      "image/png": "[encoded data removed]",
      "text/plain": [
       "<Figure size 1440x360 with 1 Axes>"
      ]
     },
     "metadata": {
      "needs_background": "light"
     },
     "output_type": "display_data"
    }
   ],
   "source": [
    "SSI['Price'].plot(figsize=(20,5))"
   ]
  },
  {
   "cell_type": "code",
   "execution_count": 10,
   "id": "1445b8a1-567b-48fd-b3b1-f7d35db5e158",
   "metadata": {},
   "outputs": [
    {
     "data": {
      "text/plain": [
       "DatetimeIndex(['2017-12-01', '2017-12-04', '2017-12-05', '2017-12-06',\n",
       "               '2017-12-07', '2017-12-08', '2017-12-11', '2017-12-12',\n",
       "               '2017-12-13', '2017-12-14',\n",
       "               ...\n",
       "               '2022-11-18', '2022-11-21', '2022-11-22', '2022-11-23',\n",
       "               '2022-11-24', '2022-11-25', '2022-11-28', '2022-11-29',\n",
       "               '2022-11-30', '2022-12-01'],\n",
       "              dtype='datetime64[ns]', name='Date_New', length=1249, freq=None)"
      ]
     },
     "execution_count": 10,
     "metadata": {},
     "output_type": "execute_result"
    }
   ],
   "source": [
    "SSI.index"
   ]
  },
  {
   "cell_type": "code",
   "execution_count": 11,
   "id": "ac784d21-3637-4299-94cc-35190f02fbe0",
   "metadata": {},
   "outputs": [
    {
     "data": {
      "text/plain": [
       "DatetimeIndex(['2017-12-01', '2017-12-04', '2017-12-05', '2017-12-06',\n",
       "               '2017-12-07', '2017-12-08', '2017-12-11', '2017-12-12',\n",
       "               '2017-12-13', '2017-12-14',\n",
       "               ...\n",
       "               '2022-11-18', '2022-11-21', '2022-11-22', '2022-11-23',\n",
       "               '2022-11-24', '2022-11-25', '2022-11-28', '2022-11-29',\n",
       "               '2022-11-30', '2022-12-01'],\n",
       "              dtype='datetime64[ns]', name='Date_New', length=1249, freq=None)"
      ]
     },
     "execution_count": 11,
     "metadata": {},
     "output_type": "execute_result"
    }
   ],
   "source": [
    "SSI.index"
   ]
  },
  {
   "cell_type": "code",
   "execution_count": 12,
   "id": "a994ee91-1d9c-4bc5-b5df-652a12edecec",
   "metadata": {},
   "outputs": [],
   "source": [
    "x = np.array(SSI.Time, dtype = float)\n",
    "y = np.array(SSI.Price, dtype = float)\n",
    "z = [1249,1250,1251,1252,1253,1254,1255,1256,1257,1258,1259,1260,1261,1262,1263,1264,1265,1266,1267,1268,1269,1270,1271,1272,1273,1274,1275,1276,1277,1278]"
   ]
  },
  {
   "cell_type": "code",
   "execution_count": 13,
   "id": "c31c6b45-a229-4d1e-8d22-0afaaafe14c1",
   "metadata": {},
   "outputs": [],
   "source": [
    "no_of_predictions=30\n",
    "datelist_future = pd.date_range(start=\"12/2/2022\",end=\"12/31/2022\")"
   ]
  },
  {
   "cell_type": "code",
   "execution_count": 14,
   "id": "adcddb9e-04b9-455d-8b5c-7b5e9f4fe9c6",
   "metadata": {},
   "outputs": [
    {
     "name": "stdout",
     "output_type": "stream",
     "text": [
      "                      0\n",
      "28363.919840 2022-12-02\n",
      "28378.867509 2022-12-03\n",
      "28393.815177 2022-12-04\n",
      "28408.762845 2022-12-05\n",
      "28423.710514 2022-12-06\n",
      "28438.658182 2022-12-07\n",
      "28453.605850 2022-12-08\n",
      "28468.553519 2022-12-09\n",
      "28483.501187 2022-12-10\n",
      "28498.448855 2022-12-11\n",
      "28513.396524 2022-12-12\n",
      "28528.344192 2022-12-13\n",
      "28543.291860 2022-12-14\n",
      "28558.239529 2022-12-15\n",
      "28573.187197 2022-12-16\n",
      "28588.134865 2022-12-17\n",
      "28603.082534 2022-12-18\n",
      "28618.030202 2022-12-19\n",
      "28632.977870 2022-12-20\n",
      "28647.925539 2022-12-21\n",
      "28662.873207 2022-12-22\n",
      "28677.820875 2022-12-23\n",
      "28692.768543 2022-12-24\n",
      "28707.716212 2022-12-25\n",
      "28722.663880 2022-12-26\n",
      "28737.611548 2022-12-27\n",
      "28752.559217 2022-12-28\n",
      "28767.506885 2022-12-29\n",
      "28782.454553 2022-12-30\n",
      "28797.402222 2022-12-31\n"
     ]
    }
   ],
   "source": [
    "coefs = poly.polyfit(x, y,1)\n",
    "x_new = np.linspace(x[0], x[-1] + no_of_predictions, num = len(x) + no_of_predictions)\n",
    "ffit = poly.polyval(x_new, coefs)\n",
    "pred = poly.polyval(z, coefs)\n",
    "predictions = pd.DataFrame(datelist_future,pred)\n",
    "print (predictions)"
   ]
  },
  {
   "cell_type": "code",
   "execution_count": 15,
   "id": "0397444d-63e1-4a62-8275-e903153b2b74",
   "metadata": {},
   "outputs": [
    {
     "data": {
      "text/plain": [
       "DatetimeIndex(['2017-12-01', '2017-12-04', '2017-12-05', '2017-12-06',\n",
       "               '2017-12-07', '2017-12-08', '2017-12-11', '2017-12-12',\n",
       "               '2017-12-13', '2017-12-14',\n",
       "               ...\n",
       "               '2022-12-22', '2022-12-23', '2022-12-24', '2022-12-25',\n",
       "               '2022-12-26', '2022-12-27', '2022-12-28', '2022-12-29',\n",
       "               '2022-12-30', '2022-12-31'],\n",
       "              dtype='datetime64[ns]', length=1279, freq=None)"
      ]
     },
     "execution_count": 15,
     "metadata": {},
     "output_type": "execute_result"
    }
   ],
   "source": [
    "new_date=SSI.index.append(datelist_future)\n",
    "new_date"
   ]
  },
  {
   "cell_type": "code",
   "execution_count": 16,
   "id": "3929a3aa-f1f9-47bf-88c2-a360b111ac1b",
   "metadata": {},
   "outputs": [
    {
     "data": {
      "image/png": "[encoded data removed]",
      "text/plain": [
       "<Figure size 1440x720 with 1 Axes>"
      ]
     },
     "metadata": {
      "needs_background": "light"
     },
     "output_type": "display_data"
    }
   ],
   "source": [
    "plt.rcParams['figure.figsize'] = [20, 10]\n",
    "plt.plot(SSI.index, y, 'red', label=\"Original data\")\n",
    "plt.plot(new_date, ffit, label = \"Fitted data\")\n",
    "plt.plot(datelist_future, pred, 'orange', label=\"Prediction data\")\n",
    "plt.axvline(x = min(datelist_future), color='green', linewidth=2, linestyle='--')\n",
    "plt.legend(loc='upper left')\n",
    "plt.show()"
   ]
  },
  {
   "cell_type": "code",
   "execution_count": null,
   "id": "2c7c70b7-acbc-43ad-8e6a-a62fafae1cdc",
   "metadata": {},
   "outputs": [],
   "source": []
  },
  {
   "cell_type": "code",
   "execution_count": null,
   "id": "2f2ee4ac-9af8-4b3f-9b55-4a6463e5fe9b",
   "metadata": {},
   "outputs": [],
   "source": []
  }
 ],
 "metadata": {
  "kernelspec": {
   "display_name": "Python 3 (ipykernel)",
   "language": "python",
   "name": "python3"
  },
  "language_info": {
   "codemirror_mode": {
    "name": "ipython",
    "version": 3
   },
   "file_extension": ".py",
   "mimetype": "text/x-python",
   "name": "python",
   "nbconvert_exporter": "python",
   "pygments_lexer": "ipython3",
   "version": "3.9.12"
  }
 },
 "nbformat": 4,
 "nbformat_minor": 5
}
